{
  "nbformat": 4,
  "nbformat_minor": 0,
  "metadata": {
    "colab": {
      "provenance": [],
      "collapsed_sections": [
        "BUsJ2G7w-Dk4"
      ],
      "authorship_tag": "ABX9TyPYiqbdmqkbJKPqXIEdSizP",
      "include_colab_link": true
    },
    "kernelspec": {
      "name": "python3",
      "display_name": "Python 3"
    },
    "language_info": {
      "name": "python"
    }
  },
  "cells": [
    {
      "cell_type": "markdown",
      "metadata": {
        "id": "view-in-github",
        "colab_type": "text"
      },
      "source": [
        "<a href=\"https://colab.research.google.com/github/gv1010/ml-coding/blob/main/Assignment.ipynb\" target=\"_parent\"><img src=\"https://colab.research.google.com/assets/colab-badge.svg\" alt=\"Open In Colab\"/></a>"
      ]
    },
    {
      "cell_type": "code",
      "execution_count": 43,
      "metadata": {
        "colab": {
          "base_uri": "https://localhost:8080/"
        },
        "id": "6J9pko80XwC1",
        "outputId": "e348d50e-6933-4b91-add2-65bd081d26d3"
      },
      "outputs": [
        {
          "output_type": "stream",
          "name": "stdout",
          "text": [
            "ID             0\n",
            "OverallQual    0\n",
            "GrLivArea      0\n",
            "YearBuilt      0\n",
            "TotalBsmtSF    0\n",
            "FullBath       0\n",
            "HalfBath       0\n",
            "GarageCars     0\n",
            "GarageArea     0\n",
            "SalePrice      0\n",
            "dtype: int64\n"
          ]
        }
      ],
      "source": [
        "import pandas as pd\n",
        "\n",
        "data = pd.read_excel(\"sample_dataset.xlsx\")\n",
        "\n",
        "# Checking missing values\n",
        "print(data.isnull().sum())"
      ]
    },
    {
      "cell_type": "code",
      "source": [
        "# data[\"YearBuilt\"] = 2024-data[\"YearBuilt\"] # instead of having year, we are referencing with current year"
      ],
      "metadata": {
        "id": "idLkbM_GkRLz"
      },
      "execution_count": 28,
      "outputs": []
    },
    {
      "cell_type": "code",
      "source": [
        "data.drop(columns=[\"ID\",], inplace = True) # removing unwanted column"
      ],
      "metadata": {
        "id": "bUSSreN7YrRS"
      },
      "execution_count": 29,
      "outputs": []
    },
    {
      "cell_type": "code",
      "source": [
        "data.head()"
      ],
      "metadata": {
        "colab": {
          "base_uri": "https://localhost:8080/",
          "height": 206
        },
        "id": "_097CjcO0TCO",
        "outputId": "d8bc4b35-0394-4bef-8bb0-344a6f6ae06d"
      },
      "execution_count": 30,
      "outputs": [
        {
          "output_type": "execute_result",
          "data": {
            "text/plain": [
              "   OverallQual  GrLivArea  YearBuilt  TotalBsmtSF  FullBath  HalfBath  \\\n",
              "0            5        629       2022          702         1         0   \n",
              "1            2       2402       1972          251         1         1   \n",
              "2            7       1547       1968         1224         3         0   \n",
              "3            1        666       1937         2890         4         1   \n",
              "4            9       2946       1985          768         2         1   \n",
              "\n",
              "   GarageCars  GarageArea  SalePrice  \n",
              "0           3         627     457528  \n",
              "1           3         705      78691  \n",
              "2           1         282     316056  \n",
              "3           3          39     213285  \n",
              "4           4         848     304717  "
            ],
            "text/html": [
              "\n",
              "  <div id=\"df-a37bd8bf-39af-49e0-a3b8-ec75cf7ce898\" class=\"colab-df-container\">\n",
              "    <div>\n",
              "<style scoped>\n",
              "    .dataframe tbody tr th:only-of-type {\n",
              "        vertical-align: middle;\n",
              "    }\n",
              "\n",
              "    .dataframe tbody tr th {\n",
              "        vertical-align: top;\n",
              "    }\n",
              "\n",
              "    .dataframe thead th {\n",
              "        text-align: right;\n",
              "    }\n",
              "</style>\n",
              "<table border=\"1\" class=\"dataframe\">\n",
              "  <thead>\n",
              "    <tr style=\"text-align: right;\">\n",
              "      <th></th>\n",
              "      <th>OverallQual</th>\n",
              "      <th>GrLivArea</th>\n",
              "      <th>YearBuilt</th>\n",
              "      <th>TotalBsmtSF</th>\n",
              "      <th>FullBath</th>\n",
              "      <th>HalfBath</th>\n",
              "      <th>GarageCars</th>\n",
              "      <th>GarageArea</th>\n",
              "      <th>SalePrice</th>\n",
              "    </tr>\n",
              "  </thead>\n",
              "  <tbody>\n",
              "    <tr>\n",
              "      <th>0</th>\n",
              "      <td>5</td>\n",
              "      <td>629</td>\n",
              "      <td>2022</td>\n",
              "      <td>702</td>\n",
              "      <td>1</td>\n",
              "      <td>0</td>\n",
              "      <td>3</td>\n",
              "      <td>627</td>\n",
              "      <td>457528</td>\n",
              "    </tr>\n",
              "    <tr>\n",
              "      <th>1</th>\n",
              "      <td>2</td>\n",
              "      <td>2402</td>\n",
              "      <td>1972</td>\n",
              "      <td>251</td>\n",
              "      <td>1</td>\n",
              "      <td>1</td>\n",
              "      <td>3</td>\n",
              "      <td>705</td>\n",
              "      <td>78691</td>\n",
              "    </tr>\n",
              "    <tr>\n",
              "      <th>2</th>\n",
              "      <td>7</td>\n",
              "      <td>1547</td>\n",
              "      <td>1968</td>\n",
              "      <td>1224</td>\n",
              "      <td>3</td>\n",
              "      <td>0</td>\n",
              "      <td>1</td>\n",
              "      <td>282</td>\n",
              "      <td>316056</td>\n",
              "    </tr>\n",
              "    <tr>\n",
              "      <th>3</th>\n",
              "      <td>1</td>\n",
              "      <td>666</td>\n",
              "      <td>1937</td>\n",
              "      <td>2890</td>\n",
              "      <td>4</td>\n",
              "      <td>1</td>\n",
              "      <td>3</td>\n",
              "      <td>39</td>\n",
              "      <td>213285</td>\n",
              "    </tr>\n",
              "    <tr>\n",
              "      <th>4</th>\n",
              "      <td>9</td>\n",
              "      <td>2946</td>\n",
              "      <td>1985</td>\n",
              "      <td>768</td>\n",
              "      <td>2</td>\n",
              "      <td>1</td>\n",
              "      <td>4</td>\n",
              "      <td>848</td>\n",
              "      <td>304717</td>\n",
              "    </tr>\n",
              "  </tbody>\n",
              "</table>\n",
              "</div>\n",
              "    <div class=\"colab-df-buttons\">\n",
              "\n",
              "  <div class=\"colab-df-container\">\n",
              "    <button class=\"colab-df-convert\" onclick=\"convertToInteractive('df-a37bd8bf-39af-49e0-a3b8-ec75cf7ce898')\"\n",
              "            title=\"Convert this dataframe to an interactive table.\"\n",
              "            style=\"display:none;\">\n",
              "\n",
              "  <svg xmlns=\"http://www.w3.org/2000/svg\" height=\"24px\" viewBox=\"0 -960 960 960\">\n",
              "    <path d=\"M120-120v-720h720v720H120Zm60-500h600v-160H180v160Zm220 220h160v-160H400v160Zm0 220h160v-160H400v160ZM180-400h160v-160H180v160Zm440 0h160v-160H620v160ZM180-180h160v-160H180v160Zm440 0h160v-160H620v160Z\"/>\n",
              "  </svg>\n",
              "    </button>\n",
              "\n",
              "  <style>\n",
              "    .colab-df-container {\n",
              "      display:flex;\n",
              "      gap: 12px;\n",
              "    }\n",
              "\n",
              "    .colab-df-convert {\n",
              "      background-color: #E8F0FE;\n",
              "      border: none;\n",
              "      border-radius: 50%;\n",
              "      cursor: pointer;\n",
              "      display: none;\n",
              "      fill: #1967D2;\n",
              "      height: 32px;\n",
              "      padding: 0 0 0 0;\n",
              "      width: 32px;\n",
              "    }\n",
              "\n",
              "    .colab-df-convert:hover {\n",
              "      background-color: #E2EBFA;\n",
              "      box-shadow: 0px 1px 2px rgba(60, 64, 67, 0.3), 0px 1px 3px 1px rgba(60, 64, 67, 0.15);\n",
              "      fill: #174EA6;\n",
              "    }\n",
              "\n",
              "    .colab-df-buttons div {\n",
              "      margin-bottom: 4px;\n",
              "    }\n",
              "\n",
              "    [theme=dark] .colab-df-convert {\n",
              "      background-color: #3B4455;\n",
              "      fill: #D2E3FC;\n",
              "    }\n",
              "\n",
              "    [theme=dark] .colab-df-convert:hover {\n",
              "      background-color: #434B5C;\n",
              "      box-shadow: 0px 1px 3px 1px rgba(0, 0, 0, 0.15);\n",
              "      filter: drop-shadow(0px 1px 2px rgba(0, 0, 0, 0.3));\n",
              "      fill: #FFFFFF;\n",
              "    }\n",
              "  </style>\n",
              "\n",
              "    <script>\n",
              "      const buttonEl =\n",
              "        document.querySelector('#df-a37bd8bf-39af-49e0-a3b8-ec75cf7ce898 button.colab-df-convert');\n",
              "      buttonEl.style.display =\n",
              "        google.colab.kernel.accessAllowed ? 'block' : 'none';\n",
              "\n",
              "      async function convertToInteractive(key) {\n",
              "        const element = document.querySelector('#df-a37bd8bf-39af-49e0-a3b8-ec75cf7ce898');\n",
              "        const dataTable =\n",
              "          await google.colab.kernel.invokeFunction('convertToInteractive',\n",
              "                                                    [key], {});\n",
              "        if (!dataTable) return;\n",
              "\n",
              "        const docLinkHtml = 'Like what you see? Visit the ' +\n",
              "          '<a target=\"_blank\" href=https://colab.research.google.com/notebooks/data_table.ipynb>data table notebook</a>'\n",
              "          + ' to learn more about interactive tables.';\n",
              "        element.innerHTML = '';\n",
              "        dataTable['output_type'] = 'display_data';\n",
              "        await google.colab.output.renderOutput(dataTable, element);\n",
              "        const docLink = document.createElement('div');\n",
              "        docLink.innerHTML = docLinkHtml;\n",
              "        element.appendChild(docLink);\n",
              "      }\n",
              "    </script>\n",
              "  </div>\n",
              "\n",
              "\n",
              "<div id=\"df-237e6b72-11d4-4636-9064-c4f8813932bc\">\n",
              "  <button class=\"colab-df-quickchart\" onclick=\"quickchart('df-237e6b72-11d4-4636-9064-c4f8813932bc')\"\n",
              "            title=\"Suggest charts\"\n",
              "            style=\"display:none;\">\n",
              "\n",
              "<svg xmlns=\"http://www.w3.org/2000/svg\" height=\"24px\"viewBox=\"0 0 24 24\"\n",
              "     width=\"24px\">\n",
              "    <g>\n",
              "        <path d=\"M19 3H5c-1.1 0-2 .9-2 2v14c0 1.1.9 2 2 2h14c1.1 0 2-.9 2-2V5c0-1.1-.9-2-2-2zM9 17H7v-7h2v7zm4 0h-2V7h2v10zm4 0h-2v-4h2v4z\"/>\n",
              "    </g>\n",
              "</svg>\n",
              "  </button>\n",
              "\n",
              "<style>\n",
              "  .colab-df-quickchart {\n",
              "      --bg-color: #E8F0FE;\n",
              "      --fill-color: #1967D2;\n",
              "      --hover-bg-color: #E2EBFA;\n",
              "      --hover-fill-color: #174EA6;\n",
              "      --disabled-fill-color: #AAA;\n",
              "      --disabled-bg-color: #DDD;\n",
              "  }\n",
              "\n",
              "  [theme=dark] .colab-df-quickchart {\n",
              "      --bg-color: #3B4455;\n",
              "      --fill-color: #D2E3FC;\n",
              "      --hover-bg-color: #434B5C;\n",
              "      --hover-fill-color: #FFFFFF;\n",
              "      --disabled-bg-color: #3B4455;\n",
              "      --disabled-fill-color: #666;\n",
              "  }\n",
              "\n",
              "  .colab-df-quickchart {\n",
              "    background-color: var(--bg-color);\n",
              "    border: none;\n",
              "    border-radius: 50%;\n",
              "    cursor: pointer;\n",
              "    display: none;\n",
              "    fill: var(--fill-color);\n",
              "    height: 32px;\n",
              "    padding: 0;\n",
              "    width: 32px;\n",
              "  }\n",
              "\n",
              "  .colab-df-quickchart:hover {\n",
              "    background-color: var(--hover-bg-color);\n",
              "    box-shadow: 0 1px 2px rgba(60, 64, 67, 0.3), 0 1px 3px 1px rgba(60, 64, 67, 0.15);\n",
              "    fill: var(--button-hover-fill-color);\n",
              "  }\n",
              "\n",
              "  .colab-df-quickchart-complete:disabled,\n",
              "  .colab-df-quickchart-complete:disabled:hover {\n",
              "    background-color: var(--disabled-bg-color);\n",
              "    fill: var(--disabled-fill-color);\n",
              "    box-shadow: none;\n",
              "  }\n",
              "\n",
              "  .colab-df-spinner {\n",
              "    border: 2px solid var(--fill-color);\n",
              "    border-color: transparent;\n",
              "    border-bottom-color: var(--fill-color);\n",
              "    animation:\n",
              "      spin 1s steps(1) infinite;\n",
              "  }\n",
              "\n",
              "  @keyframes spin {\n",
              "    0% {\n",
              "      border-color: transparent;\n",
              "      border-bottom-color: var(--fill-color);\n",
              "      border-left-color: var(--fill-color);\n",
              "    }\n",
              "    20% {\n",
              "      border-color: transparent;\n",
              "      border-left-color: var(--fill-color);\n",
              "      border-top-color: var(--fill-color);\n",
              "    }\n",
              "    30% {\n",
              "      border-color: transparent;\n",
              "      border-left-color: var(--fill-color);\n",
              "      border-top-color: var(--fill-color);\n",
              "      border-right-color: var(--fill-color);\n",
              "    }\n",
              "    40% {\n",
              "      border-color: transparent;\n",
              "      border-right-color: var(--fill-color);\n",
              "      border-top-color: var(--fill-color);\n",
              "    }\n",
              "    60% {\n",
              "      border-color: transparent;\n",
              "      border-right-color: var(--fill-color);\n",
              "    }\n",
              "    80% {\n",
              "      border-color: transparent;\n",
              "      border-right-color: var(--fill-color);\n",
              "      border-bottom-color: var(--fill-color);\n",
              "    }\n",
              "    90% {\n",
              "      border-color: transparent;\n",
              "      border-bottom-color: var(--fill-color);\n",
              "    }\n",
              "  }\n",
              "</style>\n",
              "\n",
              "  <script>\n",
              "    async function quickchart(key) {\n",
              "      const quickchartButtonEl =\n",
              "        document.querySelector('#' + key + ' button');\n",
              "      quickchartButtonEl.disabled = true;  // To prevent multiple clicks.\n",
              "      quickchartButtonEl.classList.add('colab-df-spinner');\n",
              "      try {\n",
              "        const charts = await google.colab.kernel.invokeFunction(\n",
              "            'suggestCharts', [key], {});\n",
              "      } catch (error) {\n",
              "        console.error('Error during call to suggestCharts:', error);\n",
              "      }\n",
              "      quickchartButtonEl.classList.remove('colab-df-spinner');\n",
              "      quickchartButtonEl.classList.add('colab-df-quickchart-complete');\n",
              "    }\n",
              "    (() => {\n",
              "      let quickchartButtonEl =\n",
              "        document.querySelector('#df-237e6b72-11d4-4636-9064-c4f8813932bc button');\n",
              "      quickchartButtonEl.style.display =\n",
              "        google.colab.kernel.accessAllowed ? 'block' : 'none';\n",
              "    })();\n",
              "  </script>\n",
              "</div>\n",
              "\n",
              "    </div>\n",
              "  </div>\n"
            ],
            "application/vnd.google.colaboratory.intrinsic+json": {
              "type": "dataframe",
              "variable_name": "data",
              "summary": "{\n  \"name\": \"data\",\n  \"rows\": 1000,\n  \"fields\": [\n    {\n      \"column\": \"OverallQual\",\n      \"properties\": {\n        \"dtype\": \"number\",\n        \"std\": 2,\n        \"min\": 1,\n        \"max\": 10,\n        \"num_unique_values\": 10,\n        \"samples\": [\n          4,\n          2,\n          8\n        ],\n        \"semantic_type\": \"\",\n        \"description\": \"\"\n      }\n    },\n    {\n      \"column\": \"GrLivArea\",\n      \"properties\": {\n        \"dtype\": \"number\",\n        \"std\": 883,\n        \"min\": 500,\n        \"max\": 3499,\n        \"num_unique_values\": 836,\n        \"samples\": [\n          2747,\n          1478,\n          1742\n        ],\n        \"semantic_type\": \"\",\n        \"description\": \"\"\n      }\n    },\n    {\n      \"column\": \"YearBuilt\",\n      \"properties\": {\n        \"dtype\": \"number\",\n        \"std\": 35,\n        \"min\": 1900,\n        \"max\": 2022,\n        \"num_unique_values\": 123,\n        \"samples\": [\n          1924,\n          1973,\n          1918\n        ],\n        \"semantic_type\": \"\",\n        \"description\": \"\"\n      }\n    },\n    {\n      \"column\": \"TotalBsmtSF\",\n      \"properties\": {\n        \"dtype\": \"number\",\n        \"std\": 1007,\n        \"min\": 0,\n        \"max\": 3499,\n        \"num_unique_values\": 868,\n        \"samples\": [\n          1,\n          1819,\n          1506\n        ],\n        \"semantic_type\": \"\",\n        \"description\": \"\"\n      }\n    },\n    {\n      \"column\": \"FullBath\",\n      \"properties\": {\n        \"dtype\": \"number\",\n        \"std\": 1,\n        \"min\": 1,\n        \"max\": 4,\n        \"num_unique_values\": 4,\n        \"samples\": [\n          3,\n          2,\n          1\n        ],\n        \"semantic_type\": \"\",\n        \"description\": \"\"\n      }\n    },\n    {\n      \"column\": \"HalfBath\",\n      \"properties\": {\n        \"dtype\": \"number\",\n        \"std\": 0,\n        \"min\": 0,\n        \"max\": 2,\n        \"num_unique_values\": 3,\n        \"samples\": [\n          0,\n          1,\n          2\n        ],\n        \"semantic_type\": \"\",\n        \"description\": \"\"\n      }\n    },\n    {\n      \"column\": \"GarageCars\",\n      \"properties\": {\n        \"dtype\": \"number\",\n        \"std\": 1,\n        \"min\": 0,\n        \"max\": 4,\n        \"num_unique_values\": 5,\n        \"samples\": [\n          1,\n          2,\n          4\n        ],\n        \"semantic_type\": \"\",\n        \"description\": \"\"\n      }\n    },\n    {\n      \"column\": \"GarageArea\",\n      \"properties\": {\n        \"dtype\": \"number\",\n        \"std\": 282,\n        \"min\": 0,\n        \"max\": 1000,\n        \"num_unique_values\": 631,\n        \"samples\": [\n          556,\n          955,\n          696\n        ],\n        \"semantic_type\": \"\",\n        \"description\": \"\"\n      }\n    },\n    {\n      \"column\": \"SalePrice\",\n      \"properties\": {\n        \"dtype\": \"number\",\n        \"std\": 129264,\n        \"min\": 50363,\n        \"max\": 499208,\n        \"num_unique_values\": 999,\n        \"samples\": [\n          79063,\n          184349,\n          146761\n        ],\n        \"semantic_type\": \"\",\n        \"description\": \"\"\n      }\n    }\n  ]\n}"
            }
          },
          "metadata": {},
          "execution_count": 30
        }
      ]
    },
    {
      "source": [
        "# checking the relation with Sale Price vs OverallQual\n",
        "\n",
        "import matplotlib.pyplot as plt\n",
        "plt.scatter(data['OverallQual'], data['SalePrice'])\n",
        "plt.xlabel('OverallQual')\n",
        "_ = plt.ylabel('SalePrice')\n",
        "\n"
      ],
      "cell_type": "code",
      "execution_count": 31,
      "outputs": [
        {
          "output_type": "display_data",
          "data": {
            "text/plain": [
              "<Figure size 640x480 with 1 Axes>"
            ],
            "image/png": "[encoded data removed]"
          },
          "metadata": {}
        }
      ],
      "metadata": {
        "colab": {
          "base_uri": "https://localhost:8080/",
          "height": 449
        },
        "id": "1lvxBK4AZMqE",
        "outputId": "cb6fd7e9-c2c8-46f7-ef69-130bc4468a9d"
      }
    },
    {
      "cell_type": "markdown",
      "source": [
        "- from the plot there seems to be no correlation between the OverallQual and SalesPrice"
      ],
      "metadata": {
        "id": "URNN7TFF9iTf"
      }
    },
    {
      "cell_type": "code",
      "source": [
        "data.columns"
      ],
      "metadata": {
        "colab": {
          "base_uri": "https://localhost:8080/"
        },
        "id": "B26W95oRbyUu",
        "outputId": "f314c3cb-eebd-4c41-e7c6-8aa38d5686cc"
      },
      "execution_count": 32,
      "outputs": [
        {
          "output_type": "execute_result",
          "data": {
            "text/plain": [
              "Index(['OverallQual', 'GrLivArea', 'YearBuilt', 'TotalBsmtSF', 'FullBath',\n",
              "       'HalfBath', 'GarageCars', 'GarageArea', 'SalePrice'],\n",
              "      dtype='object')"
            ]
          },
          "metadata": {},
          "execution_count": 32
        }
      ]
    },
    {
      "cell_type": "code",
      "source": [],
      "metadata": {
        "id": "FecdaAjO0Eo7"
      },
      "execution_count": 33,
      "outputs": []
    },
    {
      "cell_type": "markdown",
      "source": [
        "### Computing the correlation with the target variable and other features in the data"
      ],
      "metadata": {
        "id": "hSUonI8N9rsD"
      }
    },
    {
      "cell_type": "code",
      "source": [
        "import pandas as pd\n",
        "import matplotlib.pyplot as plt\n",
        "\n",
        "\n",
        "# Calculate correlation coefficient\n",
        "correlation1 = data[\"SalePrice\"].corr(data[\"OverallQual\"], \"pearson\")\n",
        "correlation2 = data[\"SalePrice\"].corr(data[\"GrLivArea\"], \"pearson\")\n",
        "correlation3 = data[\"SalePrice\"].corr(data[\"YearBuilt\"], \"pearson\")\n",
        "correlation4 = data[\"SalePrice\"].corr(data[\"TotalBsmtSF\"], \"pearson\")\n",
        "correlation5 = data[\"SalePrice\"].corr(data[\"FullBath\"], \"pearson\")\n",
        "correlation6 = data[\"SalePrice\"].corr(data[\"GarageCars\"], \"pearson\")\n",
        "\n",
        "# Plot the correlation\n",
        "# plt.figure(figsize=(8, 6))\n",
        "# plt.scatter(data[\"OverallQual\"], data[\"SalePrice\"])\n",
        "# plt.xlabel(\"Overall Quality\")\n",
        "# plt.ylabel(\"Sale Price\")\n",
        "# plt.title(f\"Correlation between Overall Quality and Sale Price: {correlation:.2f}\")\n",
        "# plt.grid(True)\n",
        "# plt.show()\n",
        "\n",
        "print(f\"The correlation coefficient between Overall Quality and Sale Price is: {correlation1:.2f}\")\n",
        "\n",
        "print(f\"The correlation coefficient between GrLivArea and Sale Price is: {correlation2:.2f}\")\n",
        "\n",
        "print(f\"The correlation coefficient between YearBuilt and Sale Price is: {correlation3:.2f}\")\n",
        "\n",
        "print(f\"The correlation coefficient between TotalBsmtSF and Sale Price is: {correlation4:.2f}\")\n",
        "\n",
        "print(f\"The correlation coefficient between FullBath and Sale Price is: {correlation5:.2f}\")\n",
        "\n",
        "print(f\"The correlation coefficient between GarageCars and Sale Price is: {correlation6:.2f}\")"
      ],
      "metadata": {
        "colab": {
          "base_uri": "https://localhost:8080/"
        },
        "id": "Uz0vXuq3bNrC",
        "outputId": "3cb5456e-5057-4d43-ae7f-f3f8f1720a3e"
      },
      "execution_count": 34,
      "outputs": [
        {
          "output_type": "stream",
          "name": "stdout",
          "text": [
            "The correlation coefficient between Overall Quality and Sale Price is: -0.02\n",
            "The correlation coefficient between GrLivArea and Sale Price is: -0.02\n",
            "The correlation coefficient between YearBuilt and Sale Price is: -0.00\n",
            "The correlation coefficient between TotalBsmtSF and Sale Price is: 0.03\n",
            "The correlation coefficient between FullBath and Sale Price is: 0.01\n",
            "The correlation coefficient between GarageCars and Sale Price is: 0.02\n"
          ]
        }
      ]
    },
    {
      "cell_type": "markdown",
      "source": [
        "- weak correlation with features and target variable"
      ],
      "metadata": {
        "id": "ppFaQPpj9w_Q"
      }
    },
    {
      "cell_type": "markdown",
      "source": [
        "- TotalBsmtSF feature showing marginally better correlation (0.03) with the targte variable"
      ],
      "metadata": {
        "id": "2heWyhA390Qt"
      }
    },
    {
      "cell_type": "code",
      "source": [],
      "metadata": {
        "id": "8LO4V87gxBzD"
      },
      "execution_count": 35,
      "outputs": []
    },
    {
      "cell_type": "code",
      "source": [],
      "metadata": {
        "id": "sVfaaR8_k1-s"
      },
      "execution_count": 35,
      "outputs": []
    },
    {
      "cell_type": "code",
      "source": [
        "# Split data into training and testing sets\n",
        "from sklearn.model_selection import train_test_split\n",
        "\n",
        "\n",
        "X = data.drop(\"SalePrice\", axis=1)  # Features\n",
        "X.columns = X.columns.astype(str)\n",
        "y = data[\"SalePrice\"]  # Target variable\n",
        "\n",
        "X_train, X_test, y_train, y_test = train_test_split(X, y, test_size=0.3, random_state=42)\n"
      ],
      "metadata": {
        "id": "juO-o8SqYRY6"
      },
      "execution_count": 36,
      "outputs": []
    },
    {
      "cell_type": "code",
      "source": [
        "from sklearn.preprocessing import StandardScaler\n",
        "scaler = StandardScaler()\n",
        "X_train_scaled = scaler.fit_transform(X_train)\n",
        "X_test_scaled = scaler.transform(X_test)"
      ],
      "metadata": {
        "id": "YFD3rOuokxrN"
      },
      "execution_count": 37,
      "outputs": []
    },
    {
      "cell_type": "code",
      "source": [
        "X_train_scaled.shape, X_test_scaled.shape"
      ],
      "metadata": {
        "colab": {
          "base_uri": "https://localhost:8080/"
        },
        "id": "QtDGgn5ym7-3",
        "outputId": "3861e601-2c07-47a0-af2f-382ef74b55fd"
      },
      "execution_count": 38,
      "outputs": [
        {
          "output_type": "execute_result",
          "data": {
            "text/plain": [
              "((700, 8), (300, 8))"
            ]
          },
          "metadata": {},
          "execution_count": 38
        }
      ]
    },
    {
      "cell_type": "code",
      "source": [],
      "metadata": {
        "id": "047yxg-HZcol"
      },
      "execution_count": 39,
      "outputs": []
    },
    {
      "cell_type": "code",
      "source": [
        "# Using Linear Regression\n",
        "from sklearn.linear_model import LinearRegression\n",
        "\n",
        "import numpy as np\n",
        "\n",
        "model = LinearRegression()\n",
        "model.fit(X_train_scaled, y_train)\n",
        "\n",
        "# Model Evaluation\n",
        "from sklearn.metrics import mean_squared_error, r2_score\n",
        "\n",
        "y_pred = model.predict(X_test_scaled)\n",
        "mse = mean_squared_error(y_test, y_pred)\n",
        "rmse = np.sqrt(mse)\n",
        "r2 = r2_score(y_test, y_pred)\n",
        "\n",
        "print(f\"Mean Squared Error: {mse}\")\n",
        "print(f\"Root Mean Squared Error: {rmse}\")\n",
        "print(f\"R-squared: {r2}\")\n",
        "\n"
      ],
      "metadata": {
        "colab": {
          "base_uri": "https://localhost:8080/"
        },
        "id": "Cgs7mJZ3YHli",
        "outputId": "30d30b5a-6d8a-42a9-d98b-62ad6b08a778"
      },
      "execution_count": 40,
      "outputs": [
        {
          "output_type": "stream",
          "name": "stdout",
          "text": [
            "Mean Squared Error: 17365060886.823326\n",
            "Root Mean Squared Error: 131776.55666628768\n",
            "R-squared: -0.02439536901004069\n"
          ]
        }
      ]
    },
    {
      "cell_type": "markdown",
      "source": [
        "- Interpretation of predictions - Model predicts a house price based on the linear relationship between features and historical data. Higher R-squared indicates a better fit.\n",
        "- Here the r-squared value is close to 0, which indicates the fit is very poor.\n",
        "\n"
      ],
      "metadata": {
        "id": "BUsJ2G7w-Dk4"
      }
    },
    {
      "cell_type": "markdown",
      "source": [
        "- Improvements - using more complex models like Random Forests especially to capture non-linear relationships between features and target variables."
      ],
      "metadata": {
        "id": "hSPSwt4k-Pcg"
      }
    },
    {
      "cell_type": "code",
      "source": [
        "from sklearn.ensemble import RandomForestRegressor\n",
        "\n",
        "model = RandomForestRegressor(n_estimators=150, random_state=42)\n",
        "model.fit(X_train_scaled, y_train)\n",
        "y_pred = model.predict(X_test_scaled)\n",
        "mse = mean_squared_error(y_test, y_pred)\n",
        "rmse = np.sqrt(mse)\n",
        "r2 = r2_score(y_test, y_pred)\n",
        "\n",
        "print(f\"Mean Squared Error: {mse}\")\n",
        "print(f\"Root Mean Squared Error: {rmse}\")\n",
        "print(f\"R-squared: {r2}\")"
      ],
      "metadata": {
        "colab": {
          "base_uri": "https://localhost:8080/"
        },
        "id": "diJLUuPWZYBw",
        "outputId": "b5ec2098-48e6-422f-9dd2-a94cd6135e6a"
      },
      "execution_count": 45,
      "outputs": [
        {
          "output_type": "stream",
          "name": "stdout",
          "text": [
            "Mean Squared Error: 18753893359.32196\n",
            "Root Mean Squared Error: 136944.85517653433\n",
            "R-squared: -0.10632503009392003\n"
          ]
        }
      ]
    },
    {
      "cell_type": "code",
      "source": [],
      "metadata": {
        "id": "5RMRrIBw5Y4z"
      },
      "execution_count": null,
      "outputs": []
    },
    {
      "cell_type": "markdown",
      "source": [
        "- Random forest perform poorly in comparision with linear model"
      ],
      "metadata": {
        "id": "edS711J_AcAI"
      }
    },
    {
      "cell_type": "markdown",
      "source": [
        "# Conclusions:\n",
        "- Both models perform poorly from the given data, this can be due the weak realtionship between features and target variables\n",
        "- the Linear model with (r squared = -0.024) is better than Random forest regressor (r-squared = -0.105) but neither of these model makes a goot fit on the data.\n",
        "- neagtive r-squred indicates the model was not able to fit in comparision with the mean-line.\n",
        "- Improvements: adding more relevant features and more data points, may yeild in better fit on the data."
      ],
      "metadata": {
        "id": "5U0NfZej-TL1"
      }
    },
    {
      "cell_type": "code",
      "source": [],
      "metadata": {
        "id": "YqVibWfh-XxN"
      },
      "execution_count": null,
      "outputs": []
    }
  ]
}