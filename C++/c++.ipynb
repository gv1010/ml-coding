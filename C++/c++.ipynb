{
  "nbformat": 4,
  "nbformat_minor": 0,
  "metadata": {
    "colab": {
      "provenance": []
    },
    "kernelspec": {
      "name": "python3",
      "display_name": "Python 3"
    },
    "language_info": {
      "name": "python"
    }
  },
  "cells": [
    {
      "cell_type": "code",
      "execution_count": null,
      "metadata": {
        "colab": {
          "base_uri": "https://localhost:8080/"
        },
        "id": "T0xAmP5pYwUP",
        "outputId": "5c05a1f7-1756-475d-8bee-c26a260a896e"
      },
      "outputs": [
        {
          "output_type": "stream",
          "name": "stdout",
          "text": [
            "gcc (Ubuntu 11.4.0-1ubuntu1~22.04) 11.4.0\n",
            "Copyright (C) 2021 Free Software Foundation, Inc.\n",
            "This is free software; see the source for copying conditions.  There is NO\n",
            "warranty; not even for MERCHANTABILITY or FITNESS FOR A PARTICULAR PURPOSE.\n",
            "\n"
          ]
        }
      ],
      "source": [
        "!gcc --version"
      ]
    },
    {
      "cell_type": "code",
      "source": [
        "\n",
        "#include <iostream>\n",
        "using namespace std;\n",
        "int sum_array(int *arr, int length){\n",
        "    cout << length;\n",
        "\n",
        "    int sum = 0;\n",
        "    for (int i=0;i<length;i++){\n",
        "        sum = sum + arr[i];\n",
        "        cout << sum << endl;\n",
        "        // sum\n",
        "    }\n",
        "    return sum;\n",
        "}\n",
        "\n",
        "int main()\n",
        "{\n",
        "    int arr[5] = {1,2,3,4,5};\n",
        "    int length = sizeof(arr)/sizeof(arr[0]);\n",
        "    int sum;\n",
        "    sum = sum_array(arr, length);\n",
        "    cout << sum;\n",
        "\n",
        "    return 0;\n",
        "}"
      ],
      "metadata": {
        "id": "04h5SYdiZNJO"
      },
      "execution_count": null,
      "outputs": []
    },
    {
      "cell_type": "code",
      "source": [
        "\n",
        "#include <iostream>\n",
        "using namespace std;\n",
        "int maximum(int *arr, int length){\n",
        "    cout << length<< endl;\n",
        "\n",
        "    int max = 0;\n",
        "    for (int i=0;i<length;i++){\n",
        "        if (arr[i] > max){\n",
        "            max = arr[i];\n",
        "        }\n",
        "    }\n",
        "    return max;\n",
        "}\n",
        "\n",
        "int main()\n",
        "{\n",
        "    int arr[5] = {1,2,3,4,5};\n",
        "    int length = sizeof(arr)/sizeof(arr[0]);\n",
        "    int max;\n",
        "    max = maximum(arr, length);\n",
        "    cout << \"max: \"<<max;\n",
        "\n",
        "    return 0;\n",
        "}"
      ],
      "metadata": {
        "id": "m9hTSsXrdpgH"
      },
      "execution_count": null,
      "outputs": []
    },
    {
      "cell_type": "code",
      "source": [
        "\n",
        "#include <iostream>\n",
        "using namespace std;\n",
        "\n",
        "int *reverse(int arr[], int length){\n",
        "\n",
        "    for (int i=0; i < length/2; i++){\n",
        "        int ele = arr[i];\n",
        "        arr[i] = arr[length-1-i];\n",
        "        arr[length-1-i] = ele;\n",
        "\n",
        "    }\n",
        "    return arr;\n",
        "}\n",
        "\n",
        "int main()\n",
        "{\n",
        "    int arr[5] = {1,2,3,4,5};\n",
        "    int length = sizeof(arr)/sizeof(arr[0]);\n",
        "    int max;\n",
        "    int *reverse_address = reverse(arr, length);\n",
        "    for (int i = 0; i < length; i++) {\n",
        "        cout << reverse_address[i] << endl;\n",
        "    }\n",
        "\n",
        "    return 0;\n",
        "}"
      ],
      "metadata": {
        "id": "TKm2C4uaiO1h"
      },
      "execution_count": null,
      "outputs": []
    },
    {
      "cell_type": "code",
      "source": [
        "\n",
        "\n",
        "#include <iostream>\n",
        "using namespace std;\n",
        "\n",
        "int *freq_count(int arr[], int length){\n",
        "\n",
        "    int ele;\n",
        "    int *new_add = new int[length];\n",
        "    for (int i=0; i < length ; i++){\n",
        "        new_add[arr[i]] = new_add[arr[i]] + 1;\n",
        "    }\n",
        "    return new_add;\n",
        "}\n",
        "\n",
        "int main()\n",
        "{\n",
        "    int arr[7] = {1,3, 2,3,4,5, 5};\n",
        "    int length = sizeof(arr)/sizeof(arr[0]);\n",
        "    int max;\n",
        "    int *freq_count_add = freq_count(arr, length);\n",
        "    for (int i = 0; i < length; i++) {\n",
        "        if (freq_count_add[i] !=0 ){\n",
        "            cout << freq_count_add[i] << endl;\n",
        "        }\n",
        "    }\n",
        "\n",
        "    return 0;\n",
        "}"
      ],
      "metadata": {
        "id": "MVSh9jz1nu0g"
      },
      "execution_count": null,
      "outputs": []
    },
    {
      "cell_type": "markdown",
      "source": [
        "**Pointers**"
      ],
      "metadata": {
        "id": "N2zv1iNgj9FN"
      }
    },
    {
      "cell_type": "code",
      "source": [
        "\n",
        "#include <iostream>\n",
        "using namespace std;\n",
        "\n",
        "int main()\n",
        "{\n",
        "\n",
        "    int numbers[5] = {1,2,3,4,5};\n",
        "    int *ptr = &numbers[0];\n",
        "    int *ptr = numbers;  // 'numbers' decays to a pointer to its first element\n",
        "\n",
        "    cout << \"ptr : \" << ptr << endl;\n",
        "    cout << \"ptr value: \" << *ptr;\n",
        "\n",
        "    for (int i=0; i < 5; i++){\n",
        "        cout << \"value: \" << *(ptr+i) << endl;\n",
        "        cout << ptr[i]<< endl; //ptr[i] is just syntactic sugar for *(ptr + i)\n",
        "    }\n",
        "\n",
        "\n",
        "}"
      ],
      "metadata": {
        "id": "bzkiX4hUkADo"
      },
      "execution_count": null,
      "outputs": []
    },
    {
      "cell_type": "code",
      "source": [
        "#include <iostream>\n",
        "using namespace std;\n",
        "void increment_10(int *ptr){\n",
        "    *ptr = *ptr + 10;\n",
        "}\n",
        "\n",
        "\n",
        "int main()\n",
        "{\n",
        "    int num = 10;\n",
        "    cout << \"before: \" << num << endl;\n",
        "\n",
        "    increment_10(&num);\n",
        "\n",
        "    cout << \"after: \" << num;\n",
        "\n",
        "\n",
        "}"
      ],
      "metadata": {
        "id": "GMqDmb5wkIF6"
      },
      "execution_count": null,
      "outputs": []
    },
    {
      "cell_type": "code",
      "source": [],
      "metadata": {
        "id": "sOMnX8erhvjc"
      },
      "execution_count": null,
      "outputs": []
    },
    {
      "cell_type": "markdown",
      "source": [
        "**String**"
      ],
      "metadata": {
        "id": "fj6qMgRghwI2"
      }
    },
    {
      "cell_type": "code",
      "source": [
        "# C style strings with pointers\n",
        "#include <iostream>\n",
        "using namespace std;\n",
        "\n",
        "int main()\n",
        "{\n",
        "    char str[] = \"hellow\";\n",
        "\n",
        "    char *ptr = str;\n",
        "\n",
        "    cout << str << endl;\n",
        "\n",
        "    *ptr = 'c';\n",
        "\n",
        "    *(ptr+1) = 'k';\n",
        "\n",
        "    cout << str << endl;\n",
        "\n",
        "    return 0;\n",
        "}"
      ],
      "metadata": {
        "id": "yepWNnCXhyMx"
      },
      "execution_count": null,
      "outputs": []
    },
    {
      "cell_type": "code",
      "source": [
        "# string length\n",
        "\n",
        "#include <iostream>\n",
        "using namespace std;\n",
        "\n",
        "\n",
        "int length(const char *str){\n",
        "    int len = 0;\n",
        "    for (int i=0; *(str+i) != '\\0'; i++){\n",
        "      len ++;\n",
        "\n",
        "    }\n",
        "    return len;\n",
        "  }\n",
        "int main()\n",
        "{\n",
        "  char text[] = \"This is a test\";\n",
        "  int len = length(text);\n",
        "  cout << len;\n",
        "}"
      ],
      "metadata": {
        "id": "hCUO6RYMh3Y9"
      },
      "execution_count": null,
      "outputs": []
    },
    {
      "cell_type": "markdown",
      "source": [
        "**vector**"
      ],
      "metadata": {
        "id": "txi-hBeWg7xH"
      }
    },
    {
      "cell_type": "code",
      "source": [
        "#include <vector>\n",
        "#include <iostream> // For output, not strictly necessary for just vectors\n",
        "using namespace std;\n",
        "\n",
        "int main()\n",
        "{\n",
        "    vector<int> numbers;\n",
        "    numbers.push_back(10); // numbers is now {10}\n",
        "    numbers.push_back(20); // numbers is now {10, 20}\n",
        "    numbers.push_back(30); // numbers is now {10, 20, 30}\n",
        "    numbers.pop_back();\n",
        "    cout << numbers.size() << endl;\n",
        "    // numbers.pop_back();\n",
        "    cout << numbers.capacity() << endl;\n",
        "\n",
        "    // vector<int> myVec;\n",
        "    // cout << \"Initial capacity: \" << myVec.capacity() << std::endl; // Initial capacity might be 0\n",
        "    // for (int i = 0; i < 10; ++i) {\n",
        "    //     myVec.push_back(i);\n",
        "    //     std::cout << \"Size: \" << myVec.size() << \", Capacity: \" << myVec.capacity() << std::endl;\n",
        "    // }\n",
        "\n",
        "    cout << numbers.size() << \" empty:: \" << numbers.empty() << numbers.size();\n",
        "    // cout << numbers.clear()\n",
        "\n",
        "    numbers.reserve(1999);\n",
        "    // does not change size but changes the capcity, used to avoid reallocation when adding elements to the vector\n",
        "\n",
        "    cout << \"Last element: \" << numbers.back() << endl;\n",
        "}"
      ],
      "metadata": {
        "id": "Z0GD4J7Eg6-V"
      },
      "execution_count": null,
      "outputs": []
    },
    {
      "cell_type": "code",
      "source": [
        "# range based\n",
        "\n",
        "\n",
        "#include <vector>\n",
        "#include <iostream> // For output, not strictly necessary for just vectors\n",
        "using namespace std;\n",
        "\n",
        "int main()\n",
        "{\n",
        "    std::vector<int> values = {10, 20, 30, 40};\n",
        "    for (int val : values) { // 'val' is a copy of each element\n",
        "        std::cout << val << \" \"; // Output: 10 20 30 40\n",
        "    }\n",
        "    std::cout << std::endl;\n",
        "\n",
        "    for (int& val : values) { // 'val' is a reference to each element, allows modification\n",
        "        // val += 5;\n",
        "        cout << val << endl;\n",
        "    }\n",
        "    for (int val : values) {\n",
        "        val += 1;\n",
        "        std::cout << val << \" \"; // Output: 15 25 35 45\n",
        "    }\n",
        "    std::cout << std::endl;\n",
        "}"
      ],
      "metadata": {
        "id": "Fiiy0O-7h9wT"
      },
      "execution_count": null,
      "outputs": []
    },
    {
      "cell_type": "code",
      "source": [
        "# iterator\n",
        "\n",
        "std::vector<int> dataPoints = {5, 10, 15, 20};\n",
        "for (std::vector<int>::iterator it = dataPoints.begin(); it != dataPoints.end(); ++it) {\n",
        "    std::cout << *it << \" \"; // *it dereferences the iterator to get the element value\n",
        "}\n",
        "std::cout << std::endl;\n",
        "\n",
        "// In modern C++, you can often use 'auto' to simplify iterator declaration:\n",
        "for (auto it = dataPoints.begin(); it != dataPoints.end(); ++it) {\n",
        "    std::cout << *it << \" \";\n",
        "}\n",
        "std::cout << std::endl;"
      ],
      "metadata": {
        "id": "9BXBKk_7iiwD"
      },
      "execution_count": null,
      "outputs": []
    },
    {
      "cell_type": "markdown",
      "source": [
        "**2D Vectors**"
      ],
      "metadata": {
        "id": "c4Hur3uBG4s2"
      }
    },
    {
      "cell_type": "code",
      "source": [
        "#include <iostream>\n",
        "#include <vector>\n",
        "using namespace std;\n",
        "\n",
        "void print_vector(vector<vector <int>> matrix){\n",
        "  // vector<vector<int>> matrix(3);\n",
        "    for (vector vec: matrix){\n",
        "      for (int val : vec){\n",
        "        cout << val << \" \";\n",
        "      }\n",
        "      cout << endl;\n",
        "    }\n",
        "}\n",
        "\n",
        "int main()\n",
        "{\n",
        "    // vector<vector <int>> matrix;\n",
        "    // vector<vector<int>> matrix(3);\n",
        "    // int rows = 4;\n",
        "    // int cols = 3;\n",
        "    // vector<vector <int>> matrix(rows, vector<int>(cols, 0));\n",
        "    // print_vector(matrix);\n",
        "\n",
        "\n",
        "    // vector <vector<int>> matrix = {\n",
        "    //   {1,2,3},\n",
        "    //   {4,5,6},\n",
        "    //   {7,8,9}\n",
        "    // };\n",
        "    // print_vector(matrix);\n",
        "\n",
        "    //  adding a row\n",
        "    // vector<vector <int>> matrix;\n",
        "    // vector<int> first = {10,11,12};\n",
        "    // matrix.push_back(first);\n",
        "    // print_vector(matrix);\n",
        "\n",
        "    // adding elements in specific row\n",
        "    vector <vector <int>> matrix = {{1,2}, {3,4}};\n",
        "\n",
        "    matrix[0].push_back(5);\n",
        "    print_vector(matrix);\n",
        "\n",
        "    return 0;\n",
        "}"
      ],
      "metadata": {
        "id": "LdKA2dO0G3xw"
      },
      "execution_count": null,
      "outputs": []
    },
    {
      "cell_type": "code",
      "source": [
        "# Matrix Multiplication in C++\n",
        "\n",
        "#include <iostream>\n",
        "#include <vector>\n",
        "using namespace std;\n",
        "\n",
        "void print_vector(vector<vector <int>> matrix){\n",
        "  // vector<vector<int>> matrix(3);\n",
        "    for (vector vec: matrix){\n",
        "      for (int val : vec){\n",
        "        cout << val << \" \";\n",
        "      }\n",
        "      cout << endl;\n",
        "    }\n",
        "}\n",
        "\n",
        "vector<vector<int>> mat_mul(vector<vector <int>> A, vector<vector <int>> B){\n",
        "  int a_row = A.size();\n",
        "  int a_col = A[0].size();\n",
        "  int b_row = B.size();\n",
        "  int b_col = B[0].size();\n",
        "\n",
        "  vector<vector <int>> new_mat(a_row, vector<int>(b_col, 0));\n",
        "\n",
        "  for (int j = 0; j < a_row; j++){\n",
        "    for (int i = 0; i < b_col; i++){\n",
        "      int ele_sum = 0;\n",
        "      for (int k = 0; k < a_col; k++){\n",
        "        ele_sum += A[j][k]*B[k][i];\n",
        "      }\n",
        "      new_mat[j][i] = ele_sum;\n",
        "    }\n",
        "  }\n",
        "  return new_mat;\n",
        "\n",
        "}\n",
        "\n",
        "int main()\n",
        "{\n",
        "    vector <vector <int>> matrix_A = {{2,1}, {1,4}};\n",
        "    vector <vector <int>> matrix_B = {{1,2,0}, {0,1,2}};\n",
        "\n",
        "    vector<vector<int>> mat = mat_mul(matrix_A, matrix_B);\n",
        "\n",
        "\n",
        "    print_vector(mat);\n",
        "}"
      ],
      "metadata": {
        "id": "rAClaMBeOaS6"
      },
      "execution_count": null,
      "outputs": []
    }
  ]
}