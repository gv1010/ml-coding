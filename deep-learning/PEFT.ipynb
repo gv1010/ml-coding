{
  "nbformat": 4,
  "nbformat_minor": 0,
  "metadata": {
    "colab": {
      "provenance": [],
      "authorship_tag": "ABX9TyPKP36n/qzNvoBxPLCSFD8a",
      "include_colab_link": true
    },
    "kernelspec": {
      "name": "python3",
      "display_name": "Python 3"
    },
    "language_info": {
      "name": "python"
    }
  },
  "cells": [
    {
      "cell_type": "markdown",
      "metadata": {
        "id": "view-in-github",
        "colab_type": "text"
      },
      "source": [
        "<a href=\"https://colab.research.google.com/github/gv1010/ml-coding/blob/main/deep-learning/PEFT.ipynb\" target=\"_parent\"><img src=\"https://colab.research.google.com/assets/colab-badge.svg\" alt=\"Open In Colab\"/></a>"
      ]
    },
    {
      "cell_type": "code",
      "execution_count": null,
      "metadata": {
        "id": "UdHZEOTX_SlG"
      },
      "outputs": [],
      "source": [
        "# #what is transfer learning ?\n",
        "# 1. Feature based transfer: training embedding models and using in downstream tasks\n",
        "    train embedding >> embed+new model\n",
        "# 2. Fine Tuning : Training a model on some pretraining tasks and eith training model on new task or adding a new layer to tune\n",
        "    train a model >> same model with some variances in the architectue and data"
      ]
    },
    {
      "cell_type": "code",
      "source": [
        "# Why we use masked multi head attention ?\n",
        "\n",
        "# Problem with fine tuning ?\n",
        "-  even in finetune we have to traing the model completely,  new weights get updated\n",
        "- large  number of paramters are stored , issues in transfering over the network\n",
        "- forgetting: finetuned model forgets previously trained tasks."
      ],
      "metadata": {
        "id": "NWUdnq44Bbqc"
      },
      "execution_count": null,
      "outputs": []
    },
    {
      "cell_type": "code",
      "source": [
        "What is needed ?\n",
        "- Compact Models: solve amny tasks using a samll number of additional parameters per task\n",
        "- Extensive models: Trained incrementally to solve new tasks, without forgetting previousone"
      ],
      "metadata": {
        "id": "qwIHRNR5C2hg"
      },
      "execution_count": null,
      "outputs": []
    },
    {
      "cell_type": "code",
      "source": [
        "# Adapter Modules\n",
        "# - Layers in Between New models added between layers of a prep-trained network\n",
        "# - Bottleneck architecuters: Reducing paramter of module by bottle neck the architecture\n",
        "# - Contitnual Learning - Taskd do not interact and the sahred parameters are frozen"
      ],
      "metadata": {
        "id": "BjqWM59bDo5_"
      },
      "execution_count": null,
      "outputs": []
    },
    {
      "cell_type": "code",
      "source": [
        "# What is layer norm ??"
      ],
      "metadata": {
        "id": "8xo-fyMXEc3N"
      },
      "execution_count": null,
      "outputs": []
    },
    {
      "cell_type": "code",
      "source": [
        "# # Near Identity initialization ?\n",
        "# - the input and output the the adapter are the same\n",
        "# - why we need this: if the intialization deviates too far from the Identity Function, the model may fail to train ?? (need to confirm on this)\n",
        "# - Ho do we do it: With the skip-connection, if the parameters of the projection layers are initialied to near zero the modelue is initialized to approximate identiy function."
      ],
      "metadata": {
        "id": "cuHGhUa_j1qP"
      },
      "execution_count": 1,
      "outputs": []
    },
    {
      "cell_type": "code",
      "source": [
        "#"
      ],
      "metadata": {
        "id": "e-PMJA_llY-4"
      },
      "execution_count": null,
      "outputs": []
    }
  ]
}