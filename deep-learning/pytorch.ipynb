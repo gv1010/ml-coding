{
 "cells": [
  {
   "cell_type": "code",
   "execution_count": 3,
   "id": "56525595",
   "metadata": {},
   "outputs": [],
   "source": [
    "# !pip3 install torch torchvision torchaudio --index-url https://download.pytorch.org/whl/cpu -t /home/gv/work/ml/lib/python3.11/site-packages"
   ]
  },
  {
   "cell_type": "code",
   "execution_count": 1,
   "id": "ff6c9afe",
   "metadata": {},
   "outputs": [],
   "source": [
    "import torch\n",
    "import numpy as np\n",
    "from pprint import pprint"
   ]
  },
  {
   "cell_type": "code",
   "execution_count": 2,
   "id": "05a7fbc1",
   "metadata": {},
   "outputs": [],
   "source": [
    "data = [[1, 2.1],[3, 4]]\n",
    "x_data = torch.tensor(data)"
   ]
  },
  {
   "cell_type": "code",
   "execution_count": 3,
   "id": "cee5571d",
   "metadata": {},
   "outputs": [
    {
     "data": {
      "text/plain": [
       "torch.float32"
      ]
     },
     "execution_count": 3,
     "metadata": {},
     "output_type": "execute_result"
    }
   ],
   "source": [
    "x_data.dtype"
   ]
  },
  {
   "cell_type": "code",
   "execution_count": 4,
   "id": "35dc58ac",
   "metadata": {},
   "outputs": [
    {
     "data": {
      "text/plain": [
       "dtype('int64')"
      ]
     },
     "execution_count": 4,
     "metadata": {},
     "output_type": "execute_result"
    }
   ],
   "source": [
    "np_array = np.array(data, dtype=np.int64)\n",
    "np_array.dtype"
   ]
  },
  {
   "cell_type": "code",
   "execution_count": 5,
   "id": "13119390",
   "metadata": {},
   "outputs": [
    {
     "data": {
      "text/plain": [
       "torch.int64"
      ]
     },
     "execution_count": 5,
     "metadata": {},
     "output_type": "execute_result"
    }
   ],
   "source": [
    "x_data_t = torch.from_numpy(np_array)\n",
    "x_data_t.dtype"
   ]
  },
  {
   "cell_type": "code",
   "execution_count": 6,
   "id": "53d46c00",
   "metadata": {},
   "outputs": [
    {
     "data": {
      "text/plain": [
       "tensor([[1, 2],\n",
       "        [3, 4]])"
      ]
     },
     "execution_count": 6,
     "metadata": {},
     "output_type": "execute_result"
    }
   ],
   "source": [
    "x_data_t"
   ]
  },
  {
   "cell_type": "code",
   "execution_count": 24,
   "id": "69202cf9",
   "metadata": {},
   "outputs": [
    {
     "name": "stdout",
     "output_type": "stream",
     "text": [
      "Ones Tensor: \n",
      " tensor([[1, 1],\n",
      "        [1, 1]]) \n",
      "\n"
     ]
    }
   ],
   "source": [
    "x_ones = torch.ones_like(x_data_t)#torch.ones_like(x_data) # retains the properties of x_data\n",
    "print(f\"Ones Tensor: \\n {x_ones} \\n\")\n",
    "\n"
   ]
  },
  {
   "cell_type": "code",
   "execution_count": 7,
   "id": "efc76006",
   "metadata": {},
   "outputs": [],
   "source": [
    "x_rand = torch.rand_like(x_data_t, dtype=torch.float32,)\n",
    "# x_rand"
   ]
  },
  {
   "cell_type": "code",
   "execution_count": 8,
   "id": "1c2953ea",
   "metadata": {},
   "outputs": [
    {
     "name": "stdout",
     "output_type": "stream",
     "text": [
      "Random Tensor: \n",
      " tensor([[0.1326, 0.5274],\n",
      "        [0.4229, 0.3189]]) \n",
      "\n"
     ]
    }
   ],
   "source": [
    "x_rand = torch.rand_like(x_data, dtype=torch.float) # overrides the datatype of x_data\n",
    "print(f\"Random Tensor: \\n {x_rand} \\n\")"
   ]
  },
  {
   "cell_type": "code",
   "execution_count": 9,
   "id": "e030d2e1",
   "metadata": {},
   "outputs": [
    {
     "name": "stdout",
     "output_type": "stream",
     "text": [
      "tensor([[9, 8],\n",
      "        [3, 5]])\n"
     ]
    }
   ],
   "source": [
    "shape = (2,4)\n",
    "rand = torch.randint_like(x_data_t,10)\n",
    "print(rand)"
   ]
  },
  {
   "cell_type": "code",
   "execution_count": 10,
   "id": "a1caeced",
   "metadata": {},
   "outputs": [
    {
     "name": "stdout",
     "output_type": "stream",
     "text": [
      "tensor([[0., 0., 0., 0.],\n",
      "        [0., 0., 0., 0.]])\n"
     ]
    }
   ],
   "source": [
    "zeros = torch.zeros(shape)\n",
    "print(zeros)"
   ]
  },
  {
   "cell_type": "code",
   "execution_count": 11,
   "id": "204e7ec6",
   "metadata": {},
   "outputs": [
    {
     "name": "stdout",
     "output_type": "stream",
     "text": [
      "tensor([[1., 1., 1., 1.],\n",
      "        [1., 1., 1., 1.]])\n"
     ]
    }
   ],
   "source": [
    "ones = torch.ones(shape)\n",
    "print(ones)"
   ]
  },
  {
   "cell_type": "code",
   "execution_count": 12,
   "id": "4f79d41a",
   "metadata": {},
   "outputs": [
    {
     "data": {
      "text/plain": [
       "tensor([[1., 1., 1., 1.],\n",
       "        [1., 1., 1., 1.]])"
      ]
     },
     "execution_count": 12,
     "metadata": {},
     "output_type": "execute_result"
    }
   ],
   "source": [
    "ones.data"
   ]
  },
  {
   "cell_type": "code",
   "execution_count": 13,
   "id": "27d57341",
   "metadata": {},
   "outputs": [
    {
     "name": "stdout",
     "output_type": "stream",
     "text": [
      "tensor([[0.8940, 0.5264, 0.2204, 0.9920],\n",
      "        [0.5395, 0.0264, 0.7710, 0.5671]])\n"
     ]
    }
   ],
   "source": [
    "tensor = torch.rand(shape, )\n",
    "print(tensor)"
   ]
  },
  {
   "cell_type": "code",
   "execution_count": 14,
   "id": "6c1f44a4",
   "metadata": {},
   "outputs": [
    {
     "name": "stdout",
     "output_type": "stream",
     "text": [
      "First row: tensor([0.8940, 0.5264, 0.2204, 0.9920])\n",
      "First column: tensor([0.8940, 0.5395])\n",
      "Last column: tensor([0.9920, 0.5671])\n",
      "tensor([[0.8940, 0.0000, 0.2204, 0.9920],\n",
      "        [0.5395, 0.0000, 0.7710, 0.5671]])\n"
     ]
    }
   ],
   "source": [
    "# tensor = torch.rand(shape, )\n",
    "print(f\"First row: {tensor[0]}\")\n",
    "print(f\"First column: {tensor[:, 0]}\")\n",
    "print(f\"Last column: {tensor[:, -1]}\")\n",
    "tensor[:,1] = 0\n",
    "print(tensor)"
   ]
  },
  {
   "cell_type": "code",
   "execution_count": 15,
   "id": "8431d3ca",
   "metadata": {},
   "outputs": [
    {
     "name": "stdout",
     "output_type": "stream",
     "text": [
      "Last column: tensor([0.9920, 0.5671])\n"
     ]
    }
   ],
   "source": [
    "print(f\"Last column: {tensor[:, -1]}\")"
   ]
  },
  {
   "cell_type": "code",
   "execution_count": 33,
   "id": "abc03406",
   "metadata": {},
   "outputs": [
    {
     "name": "stdout",
     "output_type": "stream",
     "text": [
      "tensor([[0.8940, 0.0000, 0.2204, 0.9920, 0.8940, 0.0000, 0.2204, 0.9920],\n",
      "        [0.5395, 0.0000, 0.7710, 0.5671, 0.5395, 0.0000, 0.7710, 0.5671]])\n",
      "torch.Size([2, 8])\n"
     ]
    },
    {
     "data": {
      "text/plain": [
       "(None, None)"
      ]
     },
     "execution_count": 33,
     "metadata": {},
     "output_type": "execute_result"
    }
   ],
   "source": [
    "t1 = torch.cat([tensor, tensor], dim=1)\n",
    "print(t1), print(t1.shape)"
   ]
  },
  {
   "cell_type": "code",
   "execution_count": 23,
   "id": "b8cd03e3",
   "metadata": {},
   "outputs": [
    {
     "name": "stdout",
     "output_type": "stream",
     "text": [
      "tensor([[[0.8940, 0.0000, 0.2204, 0.9920],\n",
      "         [0.5395, 0.0000, 0.7710, 0.5671]],\n",
      "\n",
      "        [[0.8940, 0.0000, 0.2204, 0.9920],\n",
      "         [0.5395, 0.0000, 0.7710, 0.5671]]])\n",
      "torch.Size([2, 2, 4])\n"
     ]
    },
    {
     "data": {
      "text/plain": [
       "(None, None)"
      ]
     },
     "execution_count": 23,
     "metadata": {},
     "output_type": "execute_result"
    }
   ],
   "source": [
    "t1 = torch.stack([tensor, tensor], dim=0)\n",
    "pprint(t1),print(t1.shape)"
   ]
  },
  {
   "cell_type": "code",
   "execution_count": 34,
   "id": "69b69b93",
   "metadata": {},
   "outputs": [
    {
     "name": "stdout",
     "output_type": "stream",
     "text": [
      "tensor([[[0.8940, 0.0000, 0.2204, 0.9920],\n",
      "         [0.8940, 0.0000, 0.2204, 0.9920]],\n",
      "\n",
      "        [[0.5395, 0.0000, 0.7710, 0.5671],\n",
      "         [0.5395, 0.0000, 0.7710, 0.5671]]])\n",
      "torch.Size([2, 2, 4])\n"
     ]
    },
    {
     "data": {
      "text/plain": [
       "(None, None)"
      ]
     },
     "execution_count": 34,
     "metadata": {},
     "output_type": "execute_result"
    }
   ],
   "source": [
    "t1 = torch.stack([tensor, tensor], dim=1)\n",
    "pprint(t1),print(t1.shape)"
   ]
  },
  {
   "cell_type": "code",
   "execution_count": 25,
   "id": "33ac06e8",
   "metadata": {},
   "outputs": [
    {
     "name": "stdout",
     "output_type": "stream",
     "text": [
      "tensor([[[0.8940, 0.8940],\n",
      "         [0.0000, 0.0000],\n",
      "         [0.2204, 0.2204],\n",
      "         [0.9920, 0.9920]],\n",
      "\n",
      "        [[0.5395, 0.5395],\n",
      "         [0.0000, 0.0000],\n",
      "         [0.7710, 0.7710],\n",
      "         [0.5671, 0.5671]]])\n",
      "torch.Size([2, 4, 2])\n"
     ]
    },
    {
     "data": {
      "text/plain": [
       "(None, None)"
      ]
     },
     "execution_count": 25,
     "metadata": {},
     "output_type": "execute_result"
    }
   ],
   "source": [
    "t1 = torch.stack([tensor, tensor], dim=2)\n",
    "pprint(t1),print(t1.shape)"
   ]
  },
  {
   "cell_type": "code",
   "execution_count": 29,
   "id": "3f54511b",
   "metadata": {},
   "outputs": [
    {
     "name": "stdout",
     "output_type": "stream",
     "text": [
      "tensor([[[0.8940, 0.8940],\n",
      "         [0.0000, 0.0000],\n",
      "         [0.2204, 0.2204],\n",
      "         [0.9920, 0.9920]],\n",
      "\n",
      "        [[0.5395, 0.5395],\n",
      "         [0.0000, 0.0000],\n",
      "         [0.7710, 0.7710],\n",
      "         [0.5671, 0.5671]]])\n",
      "torch.Size([2, 4, 2])\n"
     ]
    },
    {
     "data": {
      "text/plain": [
       "(None, None)"
      ]
     },
     "execution_count": 29,
     "metadata": {},
     "output_type": "execute_result"
    }
   ],
   "source": [
    "t1 = torch.stack([tensor, tensor], dim=-1)\n",
    "pprint(t1),print(t1.shape)"
   ]
  },
  {
   "cell_type": "code",
   "execution_count": 35,
   "id": "62b9acd5",
   "metadata": {},
   "outputs": [
    {
     "name": "stdout",
     "output_type": "stream",
     "text": [
      "First row: tensor([1., 1., 1., 1.])\n",
      "First column: tensor([1., 1., 1., 1.])\n",
      "Last column: tensor([1., 1., 1., 1.])\n",
      "tensor([[1., 0., 1., 1.],\n",
      "        [1., 0., 1., 1.],\n",
      "        [1., 0., 1., 1.],\n",
      "        [1., 0., 1., 1.]])\n"
     ]
    }
   ],
   "source": [
    "tensor = torch.ones(4, 4)\n",
    "print(f\"First row: {tensor[0]}\")\n",
    "print(f\"First column: {tensor[:, 0]}\")\n",
    "print(f\"Last column: {tensor[..., -1]}\")\n",
    "tensor[:,1] = 0\n",
    "print(tensor)"
   ]
  },
  {
   "cell_type": "code",
   "execution_count": 37,
   "id": "91e668b0",
   "metadata": {},
   "outputs": [
    {
     "name": "stdout",
     "output_type": "stream",
     "text": [
      "tensor([[3., 3., 3., 3.],\n",
      "        [3., 3., 3., 3.],\n",
      "        [3., 3., 3., 3.],\n",
      "        [3., 3., 3., 3.]])\n"
     ]
    },
    {
     "data": {
      "text/plain": [
       "tensor([[1., 0., 1., 1.],\n",
       "        [1., 0., 1., 1.],\n",
       "        [1., 0., 1., 1.],\n",
       "        [1., 0., 1., 1.]])"
      ]
     },
     "execution_count": 37,
     "metadata": {},
     "output_type": "execute_result"
    }
   ],
   "source": [
    "# This computes the matrix multiplication between two tensors. y1, y2, y3 will have the same value\n",
    "# ``tensor.T`` returns the transpose of a tensor\n",
    "y1 = tensor @ tensor.T\n",
    "y2 = tensor.matmul(tensor.T)\n",
    "\n",
    "y3 = torch.rand_like(y1)\n",
    "print(torch.matmul(tensor, tensor.T, out=y3))\n",
    "\n",
    "\n",
    "# This computes the element-wise product. z1, z2, z3 will have the same value\n",
    "z1 = tensor * tensor\n",
    "z2 = tensor.mul(tensor)\n",
    "\n",
    "z3 = torch.rand_like(tensor)\n",
    "torch.mul(tensor, tensor, out=z3)"
   ]
  },
  {
   "cell_type": "code",
   "execution_count": 47,
   "id": "03af6b81",
   "metadata": {},
   "outputs": [
    {
     "data": {
      "text/plain": [
       "(tensor([[[ 1.2310e+00, -9.7392e-01, -8.9165e-01],\n",
       "          [-1.8735e+00,  3.2138e+00,  1.2096e-01],\n",
       "          [-2.8794e+00, -9.7351e-01, -5.0815e-01]],\n",
       " \n",
       "         [[-3.9462e+00, -6.9280e-01,  6.7019e-01],\n",
       "          [ 2.1365e+00,  3.1491e+00,  2.1282e-01],\n",
       "          [ 2.4890e+00,  2.2651e+00, -2.9808e-01]],\n",
       " \n",
       "         [[-1.5001e-01,  1.0239e+00, -1.7630e-01],\n",
       "          [ 5.0638e-01, -2.0322e+00,  3.9017e-01],\n",
       "          [-4.4194e-01,  5.0083e+00, -4.5330e-02]],\n",
       " \n",
       "         [[-6.0089e-01,  8.3368e-01,  1.5870e-01],\n",
       "          [ 2.8052e+00,  6.4455e-01, -1.5054e-02],\n",
       "          [-1.9389e+00, -1.6463e-01,  3.9564e-01]],\n",
       " \n",
       "         [[ 1.3044e+00, -8.0269e+00,  8.9669e-02],\n",
       "          [-9.1085e-01, -1.3399e+00,  5.3261e-01],\n",
       "          [ 5.0571e-01, -4.5804e-01,  3.3362e-01]],\n",
       " \n",
       "         [[-6.3756e-01,  4.0915e-01, -1.7228e-01],\n",
       "          [ 1.5376e+00,  2.0719e+00, -1.3470e-01],\n",
       "          [-2.0013e+00, -2.1150e+00,  7.7048e-01]],\n",
       " \n",
       "         [[ 6.0902e-03,  2.8891e-01, -6.4738e-01],\n",
       "          [ 6.8842e-01, -2.2892e+00,  1.6870e-01],\n",
       "          [ 1.1303e+00,  2.3356e+00,  2.3641e-01]],\n",
       " \n",
       "         [[-2.2635e+00, -8.1746e-01, -2.8788e-02],\n",
       "          [ 3.3261e-01, -2.1682e+00,  6.6975e-03],\n",
       "          [ 2.6371e+00,  4.0046e-01, -1.9152e-01]],\n",
       " \n",
       "         [[ 2.0056e+00,  2.3860e+00, -2.4359e-01],\n",
       "          [ 7.0376e-01,  8.3622e-01,  4.8032e-02],\n",
       "          [ 1.1364e+00, -1.3313e+00, -3.7457e-02]],\n",
       " \n",
       "         [[-1.5673e-01,  1.5072e-01, -1.2606e-01],\n",
       "          [ 5.7889e-01,  2.8538e-01,  2.5372e-01],\n",
       "          [ 1.1583e+00, -4.4383e+00,  6.4144e-01]]]),\n",
       " torch.Size([10, 3, 3]))"
      ]
     },
     "execution_count": 47,
     "metadata": {},
     "output_type": "execute_result"
    }
   ],
   "source": [
    "tensor1 = torch.randn(10, 3, 4)\n",
    "tensor2 = torch.randn(4, 3)\n",
    "val = torch.matmul(tensor1, tensor2)\n",
    "val, val.size()"
   ]
  },
  {
   "cell_type": "code",
   "execution_count": 46,
   "id": "84c77d2c",
   "metadata": {},
   "outputs": [
    {
     "data": {
      "text/plain": [
       "tensor([[[ 1.9725e-01, -1.0088e+00,  3.2596e-01,  4.4046e-01],\n",
       "         [-7.9309e-01,  6.2696e-01, -3.1043e-01, -9.1254e-01],\n",
       "         [ 1.2673e-01,  2.9657e-01, -1.3579e+00,  8.8504e-02]],\n",
       "\n",
       "        [[-5.0641e-01, -4.3720e-01,  3.6183e-01, -1.4852e-02],\n",
       "         [ 9.4787e-01,  2.4566e+00, -8.3772e-01, -6.8412e-01],\n",
       "         [-5.6439e-01, -1.3055e-01,  7.5202e-02, -1.4386e-01]],\n",
       "\n",
       "        [[ 1.3278e+00, -1.4871e+00, -8.6121e-01, -9.7113e-01],\n",
       "         [ 1.7892e+00,  1.2806e+00,  4.2999e-01, -2.2527e-01],\n",
       "         [-8.5567e-01,  5.2439e-01,  1.4869e+00, -7.5298e-05]],\n",
       "\n",
       "        [[ 9.4410e-01,  2.8592e-01, -1.0301e+00, -4.0030e-01],\n",
       "         [ 9.7545e-01,  3.0664e-01,  8.7698e-01,  9.7571e-01],\n",
       "         [-2.8977e-01,  2.1732e+00,  1.0563e-02, -5.9326e-02]],\n",
       "\n",
       "        [[-5.4166e-01, -9.9466e-02, -1.7062e-01,  5.6098e-01],\n",
       "         [-1.0757e+00,  1.0069e+00,  4.7415e-01,  6.6102e-01],\n",
       "         [-1.1215e+00,  3.9868e-01, -4.8302e-01, -1.2813e-01]],\n",
       "\n",
       "        [[ 1.4544e+00, -1.1112e+00, -1.1015e+00, -3.8080e-01],\n",
       "         [ 5.4452e-01,  9.2800e-02, -6.3457e-01,  6.1005e-01],\n",
       "         [-2.2375e-01, -3.6641e-01,  1.3265e+00,  2.0059e+00]],\n",
       "\n",
       "        [[ 2.9478e-01,  4.5013e-03,  9.5883e-01, -8.1570e-01],\n",
       "         [ 2.8298e-01, -1.7192e+00, -4.2431e-01,  2.7538e-01],\n",
       "         [-2.9654e-01, -4.1648e-01,  1.5190e+00,  1.2204e+00]],\n",
       "\n",
       "        [[-8.1359e-01, -2.3564e-01, -1.1899e-01,  7.7819e-01],\n",
       "         [ 9.4548e-01,  4.3080e-01,  1.0624e+00,  1.6741e-01],\n",
       "         [ 1.3978e+00, -3.5655e-02,  1.3337e+00,  1.2290e+00]],\n",
       "\n",
       "        [[-1.8186e+00,  2.0055e-01,  7.0892e-01, -5.4923e-01],\n",
       "         [-4.0755e-01,  5.1323e-01, -3.8415e-01, -4.6812e-02],\n",
       "         [-4.9311e-01,  4.0150e-01, -3.8836e-01,  6.9112e-01]],\n",
       "\n",
       "        [[ 1.0962e+00, -1.0912e+00, -1.4768e-01,  1.4977e+00],\n",
       "         [-1.4985e+00,  2.6443e-01,  8.1048e-02, -9.7598e-01],\n",
       "         [-1.4918e+00,  1.3550e+00,  1.6062e-01, -1.5350e+00]]])"
      ]
     },
     "execution_count": 46,
     "metadata": {},
     "output_type": "execute_result"
    }
   ],
   "source": [
    "tensor1"
   ]
  },
  {
   "cell_type": "code",
   "execution_count": 56,
   "id": "cc95b9e8",
   "metadata": {},
   "outputs": [
    {
     "name": "stdout",
     "output_type": "stream",
     "text": [
      "vector x vector\n",
      "tensor([0.0680, 1.6137, 0.3150]) tensor([-1.3935, -0.1973, -1.0452]) tensor(-0.7423) torch.Size([])\n",
      "\n",
      "\n",
      "\n",
      "\n"
     ]
    }
   ],
   "source": [
    "# vector x vector\n",
    "tensor1 = torch.randn(3)\n",
    "tensor2 = torch.randn(3)\n",
    "print(\"vector x vector\")\n",
    "print(tensor1, tensor2, torch.matmul(tensor1, tensor2), torch.matmul(tensor1, tensor2).size())\n",
    "print(\"\\n\\n\\n\")\n"
   ]
  },
  {
   "cell_type": "code",
   "execution_count": 70,
   "id": "e5192776",
   "metadata": {},
   "outputs": [
    {
     "name": "stdout",
     "output_type": "stream",
     "text": [
      "matrix x vector\n",
      "tensor([[1., 1., 1., 1.],\n",
      "        [1., 1., 1., 1.],\n",
      "        [1., 1., 1., 1.]]) tensor([1., 1., 1., 1.]) tensor([4., 4., 4.]) torch.Size([3])\n",
      "torch.Size([3, 4]) torch.Size([4]) torch.Size([3])\n",
      "\n",
      "\n",
      "\n",
      "\n"
     ]
    }
   ],
   "source": [
    "# matrix x vector\n",
    "tensor1 = torch.ones(3, 4)\n",
    "tensor2 = torch.ones(4)\n",
    "torch.matmul(tensor1, tensor2).size()\n",
    "print(\"matrix x vector\")\n",
    "print(tensor1, tensor2,  torch.matmul(tensor1, tensor2), torch.matmul(tensor1, tensor2).size())\n",
    "print(tensor1.shape, tensor2.shape, torch.matmul(tensor1, tensor2).shape)\n",
    "print(\"\\n\\n\\n\")\n",
    "\n"
   ]
  },
  {
   "cell_type": "code",
   "execution_count": 67,
   "id": "1a7dc91d",
   "metadata": {},
   "outputs": [
    {
     "data": {
      "text/plain": [
       "tensor([[1.],\n",
       "        [1.],\n",
       "        [1.],\n",
       "        [1.]])"
      ]
     },
     "execution_count": 67,
     "metadata": {},
     "output_type": "execute_result"
    }
   ],
   "source": [
    "tensor2.reshape(1, -1).T"
   ]
  },
  {
   "cell_type": "code",
   "execution_count": 72,
   "id": "5d7aa473",
   "metadata": {},
   "outputs": [
    {
     "name": "stdout",
     "output_type": "stream",
     "text": [
      "batched matrix x broadcasted vector\n",
      "tensor([[[1., 1., 1., 1.],\n",
      "         [1., 1., 1., 1.],\n",
      "         [1., 1., 1., 1.]],\n",
      "\n",
      "        [[1., 1., 1., 1.],\n",
      "         [1., 1., 1., 1.],\n",
      "         [1., 1., 1., 1.]],\n",
      "\n",
      "        [[1., 1., 1., 1.],\n",
      "         [1., 1., 1., 1.],\n",
      "         [1., 1., 1., 1.]],\n",
      "\n",
      "        [[1., 1., 1., 1.],\n",
      "         [1., 1., 1., 1.],\n",
      "         [1., 1., 1., 1.]],\n",
      "\n",
      "        [[1., 1., 1., 1.],\n",
      "         [1., 1., 1., 1.],\n",
      "         [1., 1., 1., 1.]],\n",
      "\n",
      "        [[1., 1., 1., 1.],\n",
      "         [1., 1., 1., 1.],\n",
      "         [1., 1., 1., 1.]],\n",
      "\n",
      "        [[1., 1., 1., 1.],\n",
      "         [1., 1., 1., 1.],\n",
      "         [1., 1., 1., 1.]],\n",
      "\n",
      "        [[1., 1., 1., 1.],\n",
      "         [1., 1., 1., 1.],\n",
      "         [1., 1., 1., 1.]],\n",
      "\n",
      "        [[1., 1., 1., 1.],\n",
      "         [1., 1., 1., 1.],\n",
      "         [1., 1., 1., 1.]],\n",
      "\n",
      "        [[1., 1., 1., 1.],\n",
      "         [1., 1., 1., 1.],\n",
      "         [1., 1., 1., 1.]]]) tensor([1., 1., 1., 1.]) tensor([[4., 4., 4.],\n",
      "        [4., 4., 4.],\n",
      "        [4., 4., 4.],\n",
      "        [4., 4., 4.],\n",
      "        [4., 4., 4.],\n",
      "        [4., 4., 4.],\n",
      "        [4., 4., 4.],\n",
      "        [4., 4., 4.],\n",
      "        [4., 4., 4.],\n",
      "        [4., 4., 4.]]) torch.Size([10, 3])\n",
      "torch.Size([10, 3, 4]) torch.Size([4]) torch.Size([10, 3])\n",
      "\n",
      "\n",
      "\n",
      "\n"
     ]
    }
   ],
   "source": [
    "# batched matrix x broadcasted vector\n",
    "tensor1 = torch.ones(10, 3, 4)\n",
    "tensor2 = torch.ones(4)\n",
    "torch.matmul(tensor1, tensor2).size()\n",
    "print(\"batched matrix x broadcasted vector\")\n",
    "print(tensor1, tensor2,  torch.matmul(tensor1, tensor2), torch.matmul(tensor1, tensor2).size())\n",
    "print(tensor1.shape, tensor2.shape, torch.matmul(tensor1, tensor2).shape)\n",
    "\n",
    "print(\"\\n\\n\\n\")\n",
    "\n"
   ]
  },
  {
   "cell_type": "code",
   "execution_count": 88,
   "id": "1dc9fe4a",
   "metadata": {},
   "outputs": [
    {
     "name": "stdout",
     "output_type": "stream",
     "text": [
      "batched matrix x batched matrix\n",
      "torch.Size([10, 3, 5])\n",
      "\n",
      "\n",
      "\n",
      "\n"
     ]
    }
   ],
   "source": [
    "# batched matrix x batched matrix\n",
    "tensor1 = torch.ones(10, 3, 4)\n",
    "tensor2 = torch.ones(1, 4, 5)\n",
    "torch.matmul(tensor1, tensor2).size()\n",
    "print(\"batched matrix x batched matrix\")\n",
    "# print(\"batched matrix\", tensor1)\n",
    "# print(\"batched matrix\", tensor2)\n",
    "# print(tensor1, tensor2,  torch.matmul(tensor1, tensor2), torch.matmul(tensor1, tensor2).size())\n",
    "\n",
    "print(torch.matmul(tensor1, tensor2).shape)\n",
    "print(\"\\n\\n\\n\")\n",
    "\n"
   ]
  },
  {
   "cell_type": "code",
   "execution_count": 123,
   "id": "5c2b6443",
   "metadata": {},
   "outputs": [
    {
     "name": "stdout",
     "output_type": "stream",
     "text": [
      "batched matrix x broadcasted matrix\n"
     ]
    }
   ],
   "source": [
    "# batched matrix x broadcasted matrix\n",
    "tensor1 = torch.ones(10, 3, 4)\n",
    "tensor2 = torch.randn(1, 4, 4)\n",
    "torch.matmul(tensor1, tensor2).size()\n",
    "print(\"batched matrix x broadcasted matrix\")\n",
    "# print(\"batched matrix\", tensor1)\n",
    "# print(\"batched matrix\", tensor2)\n",
    "# print(torch.matmul(tensor1, tensor2))\n",
    "\n",
    "# print(torch.matmul(tensor1, tensor2).shape)\n",
    "# print(tensor1, tensor2, torch.matmul(tensor1, tensor2).size())\n"
   ]
  },
  {
   "cell_type": "code",
   "execution_count": 107,
   "id": "dc821e9c",
   "metadata": {},
   "outputs": [],
   "source": [
    "# tensor1.mul(tensor2)"
   ]
  },
  {
   "cell_type": "code",
   "execution_count": 112,
   "id": "57a54113",
   "metadata": {},
   "outputs": [
    {
     "name": "stderr",
     "output_type": "stream",
     "text": [
      "/tmp/ipykernel_13581/4191249036.py:1: UserWarning: An output with one or more elements was resized since it had shape [3, 3], which does not match the required output shape [10, 3, 4]. This behavior is deprecated, and in a future PyTorch release outputs will not be resized unless they have zero elements. You can explicitly reuse an out tensor t by resizing it, inplace, to zero elements with t.resize_(0). (Triggered internally at ../aten/src/ATen/native/Resize.cpp:26.)\n",
      "  torch.mul(tensor1, tensor2, out=torch.rand_like(torch.ones((3,3)))).shape\n"
     ]
    },
    {
     "data": {
      "text/plain": [
       "torch.Size([10, 3, 4])"
      ]
     },
     "execution_count": 112,
     "metadata": {},
     "output_type": "execute_result"
    }
   ],
   "source": [
    "# torch.mul(tensor1, tensor2, out=torch.rand_like(torch.ones((3,3)))).shape"
   ]
  },
  {
   "cell_type": "code",
   "execution_count": 133,
   "id": "351ba061",
   "metadata": {},
   "outputs": [
    {
     "data": {
      "text/plain": [
       "tensor([-0.5556,  0.7006, -0.6526, -0.6878,  2.1820, -1.6005,  0.3764,  2.0375,\n",
       "        -0.7816, -0.3262,  0.6575,  0.3219, -1.0887,  1.2436, -1.0134,  0.9748,\n",
       "         0.0273, -0.0653,  1.4627, -0.3439])"
      ]
     },
     "execution_count": 133,
     "metadata": {},
     "output_type": "execute_result"
    }
   ],
   "source": [
    "tensor2 = torch.randn(1, 5, 4)\n",
    "tensor2.reshape(-1,)"
   ]
  },
  {
   "cell_type": "code",
   "execution_count": 137,
   "id": "17bf577f",
   "metadata": {},
   "outputs": [
    {
     "data": {
      "text/plain": [
       "tensor([[[-0.5556,  0.0000,  0.0000,  0.0000],\n",
       "         [ 2.1820, -1.6005,  0.0000,  0.0000],\n",
       "         [-0.7816, -0.3262,  0.6575,  0.0000],\n",
       "         [-1.0887,  1.2436, -1.0134,  0.9748],\n",
       "         [ 0.0273, -0.0653,  1.4627, -0.3439]]])"
      ]
     },
     "execution_count": 137,
     "metadata": {},
     "output_type": "execute_result"
    }
   ],
   "source": [
    "tensor2.tril_()"
   ]
  },
  {
   "cell_type": "code",
   "execution_count": 139,
   "id": "d79a9113",
   "metadata": {},
   "outputs": [
    {
     "data": {
      "text/plain": [
       "tensor([[[-0.0840, -0.2536, -0.3968,  1.2024],\n",
       "         [ 0.0000, -0.4550,  1.1030, -0.6016],\n",
       "         [ 0.0000,  0.0000, -0.2846,  0.2429],\n",
       "         [ 0.0000,  0.0000,  0.0000, -1.2177],\n",
       "         [ 0.0000,  0.0000,  0.0000,  0.0000]]])"
      ]
     },
     "execution_count": 139,
     "metadata": {},
     "output_type": "execute_result"
    }
   ],
   "source": [
    "tensor2 = torch.randn(1, 5, 4)\n",
    "tensor2.triu()"
   ]
  },
  {
   "cell_type": "code",
   "execution_count": 149,
   "id": "77c416f2",
   "metadata": {},
   "outputs": [
    {
     "name": "stdout",
     "output_type": "stream",
     "text": [
      "tensor([[[[0.1762, 0.1118, 0.9870, 0.8794, 0.3210],\n",
      "          [0.7764, 0.7793, 0.6499, 0.7619, 0.2812],\n",
      "          [0.9136, 0.9086, 0.5870, 0.2981, 0.9414]],\n",
      "\n",
      "         [[0.1538, 0.4206, 0.5065, 0.6086, 0.3189],\n",
      "          [0.4396, 0.3494, 0.2459, 0.9426, 0.6564],\n",
      "          [0.9051, 0.7212, 0.6568, 0.9289, 0.1827]]],\n",
      "\n",
      "\n",
      "        [[[0.5102, 0.3080, 0.2807, 0.6196, 0.7402],\n",
      "          [0.0363, 0.5396, 0.1127, 0.3150, 0.9541],\n",
      "          [0.4628, 0.5697, 0.4793, 0.4545, 0.0991]],\n",
      "\n",
      "         [[0.8577, 0.1877, 0.1338, 0.5869, 0.5915],\n",
      "          [0.2536, 0.1757, 0.7289, 0.8487, 0.9442],\n",
      "          [0.5395, 0.8611, 0.2982, 0.2728, 0.6216]]]]) torch.Size([2, 2, 3, 5])\n"
     ]
    },
    {
     "data": {
      "text/plain": [
       "tensor([0.1762, 0.1118, 0.9870, 0.8794, 0.3210, 0.7764, 0.7793, 0.6499, 0.7619,\n",
       "        0.2812, 0.9136, 0.9086, 0.5870, 0.2981, 0.9414, 0.1538, 0.4206, 0.5065,\n",
       "        0.6086, 0.3189, 0.4396, 0.3494, 0.2459, 0.9426, 0.6564, 0.9051, 0.7212,\n",
       "        0.6568, 0.9289, 0.1827, 0.5102, 0.3080, 0.2807, 0.6196, 0.7402, 0.0363,\n",
       "        0.5396, 0.1127, 0.3150, 0.9541, 0.4628, 0.5697, 0.4793, 0.4545, 0.0991,\n",
       "        0.8577, 0.1877, 0.1338, 0.5869, 0.5915, 0.2536, 0.1757, 0.7289, 0.8487,\n",
       "        0.9442, 0.5395, 0.8611, 0.2982, 0.2728, 0.6216])"
      ]
     },
     "execution_count": 149,
     "metadata": {},
     "output_type": "execute_result"
    }
   ],
   "source": [
    "x = torch.rand(2, 2, 3, 5)\n",
    "print(x, x.size())\n",
    "x.reshape(-1,)\n"
   ]
  },
  {
   "cell_type": "code",
   "execution_count": 151,
   "id": "35dda405",
   "metadata": {},
   "outputs": [
    {
     "data": {
      "text/plain": [
       "tensor([[[[0.1762, 0.5102],\n",
       "          [0.1538, 0.8577]],\n",
       "\n",
       "         [[0.7764, 0.0363],\n",
       "          [0.4396, 0.2536]],\n",
       "\n",
       "         [[0.9136, 0.4628],\n",
       "          [0.9051, 0.5395]]],\n",
       "\n",
       "\n",
       "        [[[0.1118, 0.3080],\n",
       "          [0.4206, 0.1877]],\n",
       "\n",
       "         [[0.7793, 0.5396],\n",
       "          [0.3494, 0.1757]],\n",
       "\n",
       "         [[0.9086, 0.5697],\n",
       "          [0.7212, 0.8611]]],\n",
       "\n",
       "\n",
       "        [[[0.9870, 0.2807],\n",
       "          [0.5065, 0.1338]],\n",
       "\n",
       "         [[0.6499, 0.1127],\n",
       "          [0.2459, 0.7289]],\n",
       "\n",
       "         [[0.5870, 0.4793],\n",
       "          [0.6568, 0.2982]]],\n",
       "\n",
       "\n",
       "        [[[0.8794, 0.6196],\n",
       "          [0.6086, 0.5869]],\n",
       "\n",
       "         [[0.7619, 0.3150],\n",
       "          [0.9426, 0.8487]],\n",
       "\n",
       "         [[0.2981, 0.4545],\n",
       "          [0.9289, 0.2728]]],\n",
       "\n",
       "\n",
       "        [[[0.3210, 0.7402],\n",
       "          [0.3189, 0.5915]],\n",
       "\n",
       "         [[0.2812, 0.9541],\n",
       "          [0.6564, 0.9442]],\n",
       "\n",
       "         [[0.9414, 0.0991],\n",
       "          [0.1827, 0.6216]]]])"
      ]
     },
     "execution_count": 151,
     "metadata": {},
     "output_type": "execute_result"
    }
   ],
   "source": [
    "torch.permute(x, (3, 2, 1, 0))"
   ]
  },
  {
   "cell_type": "code",
   "execution_count": null,
   "id": "7422dbfa",
   "metadata": {},
   "outputs": [],
   "source": []
  }
 ],
 "metadata": {
  "kernelspec": {
   "display_name": "yolo",
   "language": "python",
   "name": "yolo"
  },
  "language_info": {
   "codemirror_mode": {
    "name": "ipython",
    "version": 3
   },
   "file_extension": ".py",
   "mimetype": "text/x-python",
   "name": "python",
   "nbconvert_exporter": "python",
   "pygments_lexer": "ipython3",
   "version": "3.8.10"
  }
 },
 "nbformat": 4,
 "nbformat_minor": 5
}
