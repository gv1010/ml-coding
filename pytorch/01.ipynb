{
  "nbformat": 4,
  "nbformat_minor": 0,
  "metadata": {
    "colab": {
      "provenance": [],
      "gpuType": "T4",
      "authorship_tag": "ABX9TyM4vIfiJ+8mkySwwxezPW4L",
      "include_colab_link": true
    },
    "kernelspec": {
      "name": "python3",
      "display_name": "Python 3"
    },
    "language_info": {
      "name": "python"
    },
    "accelerator": "GPU"
  },
  "cells": [
    {
      "cell_type": "markdown",
      "metadata": {
        "id": "view-in-github",
        "colab_type": "text"
      },
      "source": [
        "<a href=\"https://colab.research.google.com/github/gv1010/ml-coding/blob/main/pytorch/01.ipynb\" target=\"_parent\"><img src=\"https://colab.research.google.com/assets/colab-badge.svg\" alt=\"Open In Colab\"/></a>"
      ]
    },
    {
      "cell_type": "code",
      "execution_count": 1,
      "metadata": {
        "id": "9UdbN3EAp-7E",
        "colab": {
          "base_uri": "https://localhost:8080/",
          "height": 35
        },
        "outputId": "e249c089-22ff-499b-b5a7-4dc360a8d656"
      },
      "outputs": [
        {
          "output_type": "execute_result",
          "data": {
            "text/plain": [
              "'2.2.1+cu121'"
            ],
            "application/vnd.google.colaboratory.intrinsic+json": {
              "type": "string"
            }
          },
          "metadata": {},
          "execution_count": 1
        }
      ],
      "source": [
        "import torch\n",
        "torch.__version__"
      ]
    },
    {
      "cell_type": "code",
      "source": [
        "scalar = torch.tensor([10, 10])\n",
        "scalar.size(), scalar.ndim"
      ],
      "metadata": {
        "colab": {
          "base_uri": "https://localhost:8080/"
        },
        "id": "WgbWJpa6s5eO",
        "outputId": "feab7a88-2f36-4406-8f9f-b035343fee9d"
      },
      "execution_count": 10,
      "outputs": [
        {
          "output_type": "execute_result",
          "data": {
            "text/plain": [
              "(torch.Size([2]), 1)"
            ]
          },
          "metadata": {},
          "execution_count": 10
        }
      ]
    },
    {
      "cell_type": "code",
      "source": [
        "matrix = torch.tensor([[1,2], [3,4]])\n",
        "matrix.ndim, matrix.shape"
      ],
      "metadata": {
        "id": "j2psMtyVtc8q",
        "outputId": "34a4d6e7-7625-4713-c196-40bd5cc6f04e",
        "colab": {
          "base_uri": "https://localhost:8080/"
        }
      },
      "execution_count": 13,
      "outputs": [
        {
          "output_type": "execute_result",
          "data": {
            "text/plain": [
              "(2, torch.Size([2, 2]))"
            ]
          },
          "metadata": {},
          "execution_count": 13
        }
      ]
    },
    {
      "cell_type": "code",
      "source": [
        "tensor_ = torch.tensor([[[1,2,3],[4,5,6],[7,8,9]]])\n",
        "tensor_.shape, tensor_.ndim"
      ],
      "metadata": {
        "id": "x1tL_OrJuD96",
        "outputId": "71acbad0-92cf-469b-e992-710f0d96e9c3",
        "colab": {
          "base_uri": "https://localhost:8080/"
        }
      },
      "execution_count": 15,
      "outputs": [
        {
          "output_type": "execute_result",
          "data": {
            "text/plain": [
              "(torch.Size([1, 3, 3]), 3)"
            ]
          },
          "metadata": {},
          "execution_count": 15
        }
      ]
    },
    {
      "cell_type": "markdown",
      "source": [
        "# Random tensor"
      ],
      "metadata": {
        "id": "5hao2odPv1_G"
      }
    },
    {
      "cell_type": "code",
      "source": [
        "random_tensor = torch.rand(size=(2,3))\n",
        "random_tensor, random_tensor.shape, random_tensor.dtype"
      ],
      "metadata": {
        "id": "CmnWGF7auzrV",
        "outputId": "ce19b5f3-2c46-469d-961e-3190031c4b5b",
        "colab": {
          "base_uri": "https://localhost:8080/"
        }
      },
      "execution_count": 17,
      "outputs": [
        {
          "output_type": "execute_result",
          "data": {
            "text/plain": [
              "(tensor([[0.0864, 0.7972, 0.7644],\n",
              "         [0.4993, 0.7410, 0.8320]]),\n",
              " torch.Size([2, 3]),\n",
              " torch.float32)"
            ]
          },
          "metadata": {},
          "execution_count": 17
        }
      ]
    },
    {
      "cell_type": "code",
      "source": [
        "random_tensor = torch.rand(size=(12,12,3))\n",
        "random_tensor.ndim, random_tensor.shape, random_tensor.dtype"
      ],
      "metadata": {
        "id": "SDrIEa8EwBLu",
        "outputId": "6eb19b9b-9e03-4694-a8e4-f4a3714b375d",
        "colab": {
          "base_uri": "https://localhost:8080/"
        }
      },
      "execution_count": 20,
      "outputs": [
        {
          "output_type": "execute_result",
          "data": {
            "text/plain": [
              "(3, torch.Size([12, 12, 3]), torch.float32)"
            ]
          },
          "metadata": {},
          "execution_count": 20
        }
      ]
    },
    {
      "cell_type": "code",
      "source": [
        "zeros = torch.zeros(size=(5,4), dtype = torch.int8)\n",
        "zeros.dtype, zeros"
      ],
      "metadata": {
        "id": "2YYk2fKNwP4A",
        "outputId": "73923faa-ef85-4dfd-b507-fb347f3cecb9",
        "colab": {
          "base_uri": "https://localhost:8080/"
        }
      },
      "execution_count": 29,
      "outputs": [
        {
          "output_type": "execute_result",
          "data": {
            "text/plain": [
              "(torch.int8,\n",
              " tensor([[0, 0, 0, 0],\n",
              "         [0, 0, 0, 0],\n",
              "         [0, 0, 0, 0],\n",
              "         [0, 0, 0, 0],\n",
              "         [0, 0, 0, 0]], dtype=torch.int8))"
            ]
          },
          "metadata": {},
          "execution_count": 29
        }
      ]
    },
    {
      "cell_type": "code",
      "source": [
        "range_tensor = torch.arange(start=-1, end = 10, step=0.5)\n",
        "range_tensor"
      ],
      "metadata": {
        "id": "pgZCzl1hwRYQ",
        "outputId": "7c186764-e102-470e-bd3b-d49711dc7661",
        "colab": {
          "base_uri": "https://localhost:8080/"
        }
      },
      "execution_count": 31,
      "outputs": [
        {
          "output_type": "execute_result",
          "data": {
            "text/plain": [
              "tensor([-1.0000, -0.5000,  0.0000,  0.5000,  1.0000,  1.5000,  2.0000,  2.5000,\n",
              "         3.0000,  3.5000,  4.0000,  4.5000,  5.0000,  5.5000,  6.0000,  6.5000,\n",
              "         7.0000,  7.5000,  8.0000,  8.5000,  9.0000,  9.5000])"
            ]
          },
          "metadata": {},
          "execution_count": 31
        }
      ]
    },
    {
      "cell_type": "code",
      "source": [
        "alike_matrix = torch.zeros_like(input = zeros)\n",
        "alike_matrix"
      ],
      "metadata": {
        "id": "o-r8KdXyxLB8",
        "outputId": "beff755b-78e4-4d87-903e-8cbf304f1a5b",
        "colab": {
          "base_uri": "https://localhost:8080/"
        }
      },
      "execution_count": 32,
      "outputs": [
        {
          "output_type": "execute_result",
          "data": {
            "text/plain": [
              "tensor([[0, 0, 0, 0],\n",
              "        [0, 0, 0, 0],\n",
              "        [0, 0, 0, 0],\n",
              "        [0, 0, 0, 0],\n",
              "        [0, 0, 0, 0]], dtype=torch.int8)"
            ]
          },
          "metadata": {},
          "execution_count": 32
        }
      ]
    },
    {
      "cell_type": "code",
      "source": [],
      "metadata": {
        "id": "Stjyj1q4xn6k"
      },
      "execution_count": null,
      "outputs": []
    },
    {
      "cell_type": "markdown",
      "source": [
        "# Tensor Manipulation"
      ],
      "metadata": {
        "id": "02mJU_9xyKl-"
      }
    },
    {
      "cell_type": "code",
      "source": [
        "((zeros + 10)*2)%3"
      ],
      "metadata": {
        "id": "Uuvx41jpyMjM",
        "outputId": "3f51f552-d4a0-4a88-eac0-6d754650810d",
        "colab": {
          "base_uri": "https://localhost:8080/"
        }
      },
      "execution_count": 39,
      "outputs": [
        {
          "output_type": "execute_result",
          "data": {
            "text/plain": [
              "tensor([[2, 2, 2, 2],\n",
              "        [2, 2, 2, 2],\n",
              "        [2, 2, 2, 2],\n",
              "        [2, 2, 2, 2],\n",
              "        [2, 2, 2, 2]], dtype=torch.int8)"
            ]
          },
          "metadata": {},
          "execution_count": 39
        }
      ]
    },
    {
      "cell_type": "code",
      "source": [
        "# zeros = zeros"
      ],
      "metadata": {
        "id": "cJBgbr9t0F7b"
      },
      "execution_count": 51,
      "outputs": []
    },
    {
      "cell_type": "code",
      "source": [
        "mat = (zeros + 5.5)*2\n",
        "mat"
      ],
      "metadata": {
        "id": "pWUCUkgrzZIs",
        "outputId": "24e3161c-7554-4048-bbe6-8384849ba4d8",
        "colab": {
          "base_uri": "https://localhost:8080/"
        }
      },
      "execution_count": 49,
      "outputs": [
        {
          "output_type": "execute_result",
          "data": {
            "text/plain": [
              "tensor([[11., 11., 11., 11.],\n",
              "        [11., 11., 11., 11.],\n",
              "        [11., 11., 11., 11.],\n",
              "        [11., 11., 11., 11.],\n",
              "        [11., 11., 11., 11.]])"
            ]
          },
          "metadata": {},
          "execution_count": 49
        }
      ]
    },
    {
      "cell_type": "code",
      "source": [
        "mat * mat # int8 limits to (-128, 127)"
      ],
      "metadata": {
        "id": "BIZ0KxBPyRCR",
        "outputId": "8bdcac6b-1c38-4921-e1ca-72a50beb58ca",
        "colab": {
          "base_uri": "https://localhost:8080/"
        }
      },
      "execution_count": 50,
      "outputs": [
        {
          "output_type": "execute_result",
          "data": {
            "text/plain": [
              "tensor([[121., 121., 121., 121.],\n",
              "        [121., 121., 121., 121.],\n",
              "        [121., 121., 121., 121.],\n",
              "        [121., 121., 121., 121.],\n",
              "        [121., 121., 121., 121.]])"
            ]
          },
          "metadata": {},
          "execution_count": 50
        }
      ]
    },
    {
      "cell_type": "code",
      "source": [
        "mat @ mat.T"
      ],
      "metadata": {
        "id": "g0GG5OTCzUvE",
        "outputId": "53decc7d-eea4-4302-8f5e-aff766436035",
        "colab": {
          "base_uri": "https://localhost:8080/"
        }
      },
      "execution_count": 53,
      "outputs": [
        {
          "output_type": "execute_result",
          "data": {
            "text/plain": [
              "tensor([[484., 484., 484., 484., 484.],\n",
              "        [484., 484., 484., 484., 484.],\n",
              "        [484., 484., 484., 484., 484.],\n",
              "        [484., 484., 484., 484., 484.],\n",
              "        [484., 484., 484., 484., 484.]])"
            ]
          },
          "metadata": {},
          "execution_count": 53
        }
      ]
    },
    {
      "cell_type": "code",
      "source": [
        "mat.T.matmul(mat)"
      ],
      "metadata": {
        "id": "bR-8Sw1k1MI6",
        "outputId": "f7c215aa-ca65-4131-9d1c-5735b915eabe",
        "colab": {
          "base_uri": "https://localhost:8080/"
        }
      },
      "execution_count": 56,
      "outputs": [
        {
          "output_type": "execute_result",
          "data": {
            "text/plain": [
              "tensor([[605., 605., 605., 605.],\n",
              "        [605., 605., 605., 605.],\n",
              "        [605., 605., 605., 605.],\n",
              "        [605., 605., 605., 605.]])"
            ]
          },
          "metadata": {},
          "execution_count": 56
        }
      ]
    },
    {
      "cell_type": "code",
      "source": [
        "a = torch.ones(size=(3,4), dtype = torch.float32)\n",
        "b = torch.rand(size=(4,3), dtype = torch.float32)\n",
        "\n",
        "a @ b"
      ],
      "metadata": {
        "id": "E25c7azn1UH4",
        "outputId": "be772a0b-e0f4-4442-e4e8-310d9c394891",
        "colab": {
          "base_uri": "https://localhost:8080/"
        }
      },
      "execution_count": 70,
      "outputs": [
        {
          "output_type": "execute_result",
          "data": {
            "text/plain": [
              "tensor([[2.5524, 1.8049, 2.2249],\n",
              "        [2.5524, 1.8049, 2.2249],\n",
              "        [2.5524, 1.8049, 2.2249]])"
            ]
          },
          "metadata": {},
          "execution_count": 70
        }
      ]
    },
    {
      "cell_type": "code",
      "source": [
        "torch.matmul(a, b)"
      ],
      "metadata": {
        "id": "7gZnSbBQ1yVU",
        "outputId": "bd8fc7e7-d587-4838-e85b-4b4397714fbe",
        "colab": {
          "base_uri": "https://localhost:8080/"
        }
      },
      "execution_count": 71,
      "outputs": [
        {
          "output_type": "execute_result",
          "data": {
            "text/plain": [
              "tensor([[2.5524, 1.8049, 2.2249],\n",
              "        [2.5524, 1.8049, 2.2249],\n",
              "        [2.5524, 1.8049, 2.2249]])"
            ]
          },
          "metadata": {},
          "execution_count": 71
        }
      ]
    },
    {
      "cell_type": "code",
      "source": [
        "a = torch.rand(size=(1,3,4))\n",
        "a, a.shape"
      ],
      "metadata": {
        "id": "ROH6hItz2EjJ",
        "outputId": "fbaf5469-4c0b-4108-e687-8c77a1b8e734",
        "colab": {
          "base_uri": "https://localhost:8080/"
        }
      },
      "execution_count": 79,
      "outputs": [
        {
          "output_type": "execute_result",
          "data": {
            "text/plain": [
              "(tensor([[[0.6458, 0.5091, 0.9749, 0.5967],\n",
              "          [0.6297, 0.6302, 0.7949, 0.9297],\n",
              "          [0.6699, 0.0014, 0.3978, 0.2517]]]),\n",
              " torch.Size([1, 3, 4]))"
            ]
          },
          "metadata": {},
          "execution_count": 79
        }
      ]
    },
    {
      "cell_type": "code",
      "source": [
        "at = a.transpose(0,2)\n",
        "at, at.shape"
      ],
      "metadata": {
        "id": "S5umKRei6N3N",
        "outputId": "3918e8f4-2190-4d45-d92d-649f7b255675",
        "colab": {
          "base_uri": "https://localhost:8080/"
        }
      },
      "execution_count": 80,
      "outputs": [
        {
          "output_type": "execute_result",
          "data": {
            "text/plain": [
              "(tensor([[[0.6458],\n",
              "          [0.6297],\n",
              "          [0.6699]],\n",
              " \n",
              "         [[0.5091],\n",
              "          [0.6302],\n",
              "          [0.0014]],\n",
              " \n",
              "         [[0.9749],\n",
              "          [0.7949],\n",
              "          [0.3978]],\n",
              " \n",
              "         [[0.5967],\n",
              "          [0.9297],\n",
              "          [0.2517]]]),\n",
              " torch.Size([4, 3, 1]))"
            ]
          },
          "metadata": {},
          "execution_count": 80
        }
      ]
    },
    {
      "cell_type": "code",
      "source": [
        "a = torch.arange(0,10,1)\n",
        "a = a.type(torch.float32)\n",
        "\n",
        "a, a.dtype, a.mean()"
      ],
      "metadata": {
        "id": "OpsxjgJH6YIA",
        "outputId": "41837c1f-cda3-478e-8a8e-7c485d0117fb",
        "colab": {
          "base_uri": "https://localhost:8080/"
        }
      },
      "execution_count": 90,
      "outputs": [
        {
          "output_type": "execute_result",
          "data": {
            "text/plain": [
              "(tensor([0., 1., 2., 3., 4., 5., 6., 7., 8., 9.]),\n",
              " torch.float32,\n",
              " tensor(4.5000))"
            ]
          },
          "metadata": {},
          "execution_count": 90
        }
      ]
    },
    {
      "cell_type": "code",
      "source": [
        "a.type(torch.float32).mean()"
      ],
      "metadata": {
        "id": "raP2xWrb7t-h",
        "outputId": "8cbe5bd1-d08c-4c1e-dbde-8d5600d62bd7",
        "colab": {
          "base_uri": "https://localhost:8080/"
        }
      },
      "execution_count": 88,
      "outputs": [
        {
          "output_type": "execute_result",
          "data": {
            "text/plain": [
              "tensor(4.5000)"
            ]
          },
          "metadata": {},
          "execution_count": 88
        }
      ]
    },
    {
      "cell_type": "code",
      "source": [
        "torch.mean(torch.tensor([1,2,3], dtype=torch.float32))"
      ],
      "metadata": {
        "id": "JVTq21PY8Jjl",
        "outputId": "8b6c603a-605c-4609-9eae-f7c3c488e165",
        "colab": {
          "base_uri": "https://localhost:8080/"
        }
      },
      "execution_count": 94,
      "outputs": [
        {
          "output_type": "execute_result",
          "data": {
            "text/plain": [
              "tensor(2.)"
            ]
          },
          "metadata": {},
          "execution_count": 94
        }
      ]
    },
    {
      "cell_type": "code",
      "source": [
        "a = torch.rand(size = (1,2), dtype=None)\n",
        "a, a.dtype"
      ],
      "metadata": {
        "id": "P7mO-9t48a_F",
        "outputId": "5746bb05-5688-4649-936c-b5490491b0fb",
        "colab": {
          "base_uri": "https://localhost:8080/"
        }
      },
      "execution_count": 96,
      "outputs": [
        {
          "output_type": "execute_result",
          "data": {
            "text/plain": [
              "(tensor([[0.9358, 0.5089]]), torch.float32)"
            ]
          },
          "metadata": {},
          "execution_count": 96
        }
      ]
    },
    {
      "cell_type": "code",
      "source": [
        "mat.view(1, 20)"
      ],
      "metadata": {
        "id": "C50DNwQ88t9B",
        "outputId": "666cdc15-308b-40ba-fd43-d1b802addac7",
        "colab": {
          "base_uri": "https://localhost:8080/"
        }
      },
      "execution_count": 99,
      "outputs": [
        {
          "output_type": "execute_result",
          "data": {
            "text/plain": [
              "tensor([[11., 11., 11., 11., 11., 11., 11., 11., 11., 11., 11., 11., 11., 11.,\n",
              "         11., 11., 11., 11., 11., 11.]])"
            ]
          },
          "metadata": {},
          "execution_count": 99
        }
      ]
    },
    {
      "cell_type": "code",
      "source": [
        "a =torch.arange(0,12,1)\n",
        "a.reshape(2,2,3)"
      ],
      "metadata": {
        "id": "l7qhMCADHRSw",
        "outputId": "00c44e89-576c-4ab5-f600-6257f554566e",
        "colab": {
          "base_uri": "https://localhost:8080/"
        }
      },
      "execution_count": 102,
      "outputs": [
        {
          "output_type": "execute_result",
          "data": {
            "text/plain": [
              "tensor([[[ 0,  1,  2],\n",
              "         [ 3,  4,  5]],\n",
              "\n",
              "        [[ 6,  7,  8],\n",
              "         [ 9, 10, 11]]])"
            ]
          },
          "metadata": {},
          "execution_count": 102
        }
      ]
    },
    {
      "cell_type": "code",
      "source": [
        "a = torch.rand(size = (2,3), dtype=None)\n",
        "b = a.view(1, 6)\n",
        "b, a"
      ],
      "metadata": {
        "id": "LHcHVgjDH86B",
        "outputId": "7be4d7b2-7246-4b2e-ee53-9e355d57891c",
        "colab": {
          "base_uri": "https://localhost:8080/"
        }
      },
      "execution_count": 104,
      "outputs": [
        {
          "output_type": "execute_result",
          "data": {
            "text/plain": [
              "(tensor([[0.6358, 0.5912, 0.1711, 0.5940, 0.8551, 0.4191]]),\n",
              " tensor([[0.6358, 0.5912, 0.1711],\n",
              "         [0.5940, 0.8551, 0.4191]]))"
            ]
          },
          "metadata": {},
          "execution_count": 104
        }
      ]
    },
    {
      "cell_type": "code",
      "source": [
        "b[0,:] = 100\n",
        "b, a # change in view, changes the original tensor"
      ],
      "metadata": {
        "id": "5AP4udZMLIhk",
        "outputId": "aac4a746-60c4-413e-bd17-f342b430c5e4",
        "colab": {
          "base_uri": "https://localhost:8080/"
        }
      },
      "execution_count": 108,
      "outputs": [
        {
          "output_type": "execute_result",
          "data": {
            "text/plain": [
              "(tensor([[100., 100., 100., 100., 100., 100.]]),\n",
              " tensor([[100., 100., 100.],\n",
              "         [100., 100., 100.]]))"
            ]
          },
          "metadata": {},
          "execution_count": 108
        }
      ]
    },
    {
      "cell_type": "code",
      "source": [
        "a.shape"
      ],
      "metadata": {
        "id": "X2rR_KnsMLj3",
        "outputId": "1e2fde2b-088b-4b38-bb72-84892c67bcd9",
        "colab": {
          "base_uri": "https://localhost:8080/"
        }
      },
      "execution_count": 111,
      "outputs": [
        {
          "output_type": "execute_result",
          "data": {
            "text/plain": [
              "torch.Size([2, 3])"
            ]
          },
          "metadata": {},
          "execution_count": 111
        }
      ]
    },
    {
      "cell_type": "code",
      "source": [
        "b = torch.tensor([[1,2,3],[4,5,6]])\n",
        "b"
      ],
      "metadata": {
        "id": "7fK7ISFFMgmr",
        "outputId": "3438bc05-db22-4b93-d19b-e5b3952c6652",
        "colab": {
          "base_uri": "https://localhost:8080/"
        }
      },
      "execution_count": 120,
      "outputs": [
        {
          "output_type": "execute_result",
          "data": {
            "text/plain": [
              "tensor([[1, 2, 3],\n",
              "        [4, 5, 6]])"
            ]
          },
          "metadata": {},
          "execution_count": 120
        }
      ]
    },
    {
      "cell_type": "code",
      "source": [
        "torch.stack([b, b, b], dim=1), torch.stack([b,b,b], dim=1).shape"
      ],
      "metadata": {
        "id": "2BPQQGZ6LVgl",
        "outputId": "23a41f3e-cc57-4407-e6b0-7ace7b5b81eb",
        "colab": {
          "base_uri": "https://localhost:8080/"
        }
      },
      "execution_count": 121,
      "outputs": [
        {
          "output_type": "execute_result",
          "data": {
            "text/plain": [
              "(tensor([[[1, 2, 3],\n",
              "          [1, 2, 3],\n",
              "          [1, 2, 3]],\n",
              " \n",
              "         [[4, 5, 6],\n",
              "          [4, 5, 6],\n",
              "          [4, 5, 6]]]),\n",
              " torch.Size([2, 3, 3]))"
            ]
          },
          "metadata": {},
          "execution_count": 121
        }
      ]
    },
    {
      "cell_type": "code",
      "source": [
        "torch.stack([b, b, b], dim=0), torch.stack([b,b,b], dim=0).shape"
      ],
      "metadata": {
        "id": "z051XYnQMFUN",
        "outputId": "31d4b26d-8bfc-4639-c664-0dbb08119a5f",
        "colab": {
          "base_uri": "https://localhost:8080/"
        }
      },
      "execution_count": 122,
      "outputs": [
        {
          "output_type": "execute_result",
          "data": {
            "text/plain": [
              "(tensor([[[1, 2, 3],\n",
              "          [4, 5, 6]],\n",
              " \n",
              "         [[1, 2, 3],\n",
              "          [4, 5, 6]],\n",
              " \n",
              "         [[1, 2, 3],\n",
              "          [4, 5, 6]]]),\n",
              " torch.Size([3, 2, 3]))"
            ]
          },
          "metadata": {},
          "execution_count": 122
        }
      ]
    },
    {
      "cell_type": "code",
      "source": [
        "torch.stack([b, b, b], dim=-1), torch.stack([b,b,b], dim=-1).shape"
      ],
      "metadata": {
        "id": "hyUkKnTtMy8l",
        "outputId": "d65d26f7-4ba3-41ad-953b-5d14a4bba4ae",
        "colab": {
          "base_uri": "https://localhost:8080/"
        }
      },
      "execution_count": 124,
      "outputs": [
        {
          "output_type": "execute_result",
          "data": {
            "text/plain": [
              "(tensor([[[1, 1, 1],\n",
              "          [2, 2, 2],\n",
              "          [3, 3, 3]],\n",
              " \n",
              "         [[4, 4, 4],\n",
              "          [5, 5, 5],\n",
              "          [6, 6, 6]]]),\n",
              " torch.Size([2, 3, 3]))"
            ]
          },
          "metadata": {},
          "execution_count": 124
        }
      ]
    },
    {
      "cell_type": "code",
      "source": [
        "x = torch.rand(size=(1,4,3))\n",
        "x, x.permute(1,2,0)"
      ],
      "metadata": {
        "id": "sh_5JaAZM5sa",
        "outputId": "7a76310e-c713-4087-f7f7-6505f2005e18",
        "colab": {
          "base_uri": "https://localhost:8080/"
        }
      },
      "execution_count": 134,
      "outputs": [
        {
          "output_type": "execute_result",
          "data": {
            "text/plain": [
              "(tensor([[[0.1126, 0.3160, 0.3257],\n",
              "          [0.1301, 0.7383, 0.5945],\n",
              "          [0.1646, 0.7849, 0.3657],\n",
              "          [0.3548, 0.3062, 0.8152]]]),\n",
              " tensor([[[0.1126],\n",
              "          [0.3160],\n",
              "          [0.3257]],\n",
              " \n",
              "         [[0.1301],\n",
              "          [0.7383],\n",
              "          [0.5945]],\n",
              " \n",
              "         [[0.1646],\n",
              "          [0.7849],\n",
              "          [0.3657]],\n",
              " \n",
              "         [[0.3548],\n",
              "          [0.3062],\n",
              "          [0.8152]]]))"
            ]
          },
          "metadata": {},
          "execution_count": 134
        }
      ]
    },
    {
      "cell_type": "code",
      "source": [
        "y = x.permute(1,0,2)\n",
        "y[:1,0]=4\n",
        "y, y.shape #"
      ],
      "metadata": {
        "id": "5_72S3DLOZjP",
        "outputId": "5a35c6d1-c850-477c-c6b9-21664f339f1d",
        "colab": {
          "base_uri": "https://localhost:8080/"
        }
      },
      "execution_count": 135,
      "outputs": [
        {
          "output_type": "execute_result",
          "data": {
            "text/plain": [
              "(tensor([[[4.0000, 4.0000, 4.0000]],\n",
              " \n",
              "         [[0.1301, 0.7383, 0.5945]],\n",
              " \n",
              "         [[0.1646, 0.7849, 0.3657]],\n",
              " \n",
              "         [[0.3548, 0.3062, 0.8152]]]),\n",
              " torch.Size([4, 1, 3]))"
            ]
          },
          "metadata": {},
          "execution_count": 135
        }
      ]
    },
    {
      "cell_type": "code",
      "source": [
        "x"
      ],
      "metadata": {
        "id": "v8wgVryiOp8Z",
        "outputId": "2325e609-b43c-4ccb-8f7e-9f20e6168d25",
        "colab": {
          "base_uri": "https://localhost:8080/"
        }
      },
      "execution_count": 136,
      "outputs": [
        {
          "output_type": "execute_result",
          "data": {
            "text/plain": [
              "tensor([[[4.0000, 4.0000, 4.0000],\n",
              "         [0.1301, 0.7383, 0.5945],\n",
              "         [0.1646, 0.7849, 0.3657],\n",
              "         [0.3548, 0.3062, 0.8152]]])"
            ]
          },
          "metadata": {},
          "execution_count": 136
        }
      ]
    },
    {
      "cell_type": "code",
      "source": [
        "# has the same effect as view, changes the values"
      ],
      "metadata": {
        "id": "tNLsjwodP8GT"
      },
      "execution_count": 137,
      "outputs": []
    },
    {
      "cell_type": "code",
      "source": [
        "a.numpy() # default dtype=float32, in numpy"
      ],
      "metadata": {
        "id": "Z9oID-jpQDzx",
        "outputId": "7f4832f0-30ed-4b03-cce6-1ed4e906a235",
        "colab": {
          "base_uri": "https://localhost:8080/"
        }
      },
      "execution_count": 139,
      "outputs": [
        {
          "output_type": "execute_result",
          "data": {
            "text/plain": [
              "array([[100., 100., 100.],\n",
              "       [100., 100., 100.]], dtype=float32)"
            ]
          },
          "metadata": {},
          "execution_count": 139
        }
      ]
    },
    {
      "cell_type": "code",
      "source": [
        "# numpy does not work on gpu\n",
        "import torch"
      ],
      "metadata": {
        "id": "eTt6a-yXQpV0"
      },
      "execution_count": 1,
      "outputs": []
    },
    {
      "cell_type": "code",
      "source": [
        "torch.cuda.device_count()"
      ],
      "metadata": {
        "id": "XRtRXlDhS68Y",
        "outputId": "f1e05894-8d74-4c20-c39d-17a2059ab6de",
        "colab": {
          "base_uri": "https://localhost:8080/"
        }
      },
      "execution_count": 5,
      "outputs": [
        {
          "output_type": "execute_result",
          "data": {
            "text/plain": [
              "1"
            ]
          },
          "metadata": {},
          "execution_count": 5
        }
      ]
    },
    {
      "cell_type": "code",
      "source": [
        "torch.cuda.manual_seed(seed=1)"
      ],
      "metadata": {
        "id": "qVFxSVCCTXkb"
      },
      "execution_count": 15,
      "outputs": []
    },
    {
      "cell_type": "code",
      "source": [
        "torch.manual_seed(seed=1)\n",
        "a = torch.rand(size=(2,3), device = \"cuda\")\n",
        "a"
      ],
      "metadata": {
        "id": "jEOflFsrSAIv",
        "outputId": "b1a6d599-131e-46ae-ac55-b7d4f279a537",
        "colab": {
          "base_uri": "https://localhost:8080/"
        }
      },
      "execution_count": 19,
      "outputs": [
        {
          "output_type": "execute_result",
          "data": {
            "text/plain": [
              "tensor([[0.8903, 0.0275, 0.9031],\n",
              "        [0.5386, 0.7312, 0.9047]], device='cuda:0')"
            ]
          },
          "metadata": {},
          "execution_count": 19
        }
      ]
    },
    {
      "cell_type": "code",
      "source": [
        "torch.rand(size=(2,3))"
      ],
      "metadata": {
        "id": "CUOY4UNSSuZA",
        "outputId": "d67fb282-2980-449a-b496-55c48822660c",
        "colab": {
          "base_uri": "https://localhost:8080/"
        }
      },
      "execution_count": 20,
      "outputs": [
        {
          "output_type": "execute_result",
          "data": {
            "text/plain": [
              "tensor([[0.7576, 0.2793, 0.4031],\n",
              "        [0.7347, 0.0293, 0.7999]])"
            ]
          },
          "metadata": {},
          "execution_count": 20
        }
      ]
    },
    {
      "cell_type": "code",
      "source": [
        "torch.cuda.random.manual_seed(seed=1) # this is must to have else it give different values\n",
        "torch.rand(size=(2,3), device = \"cuda\")"
      ],
      "metadata": {
        "id": "-PHT5184SV24",
        "outputId": "5f6c337f-e514-426e-af1b-c9d891049851",
        "colab": {
          "base_uri": "https://localhost:8080/"
        }
      },
      "execution_count": 21,
      "outputs": [
        {
          "output_type": "execute_result",
          "data": {
            "text/plain": [
              "tensor([[0.8903, 0.0275, 0.9031],\n",
              "        [0.5386, 0.7312, 0.9047]], device='cuda:0')"
            ]
          },
          "metadata": {},
          "execution_count": 21
        }
      ]
    },
    {
      "cell_type": "code",
      "source": [],
      "metadata": {
        "id": "5CgWAAD8SYgP"
      },
      "execution_count": null,
      "outputs": []
    }
  ]
}