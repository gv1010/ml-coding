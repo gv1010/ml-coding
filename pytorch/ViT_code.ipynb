{
  "nbformat": 4,
  "nbformat_minor": 0,
  "metadata": {
    "colab": {
      "provenance": [],
      "authorship_tag": "ABX9TyNtC0YnK0xk4elcxTSOY1NH"
    },
    "kernelspec": {
      "name": "python3",
      "display_name": "Python 3"
    },
    "language_info": {
      "name": "python"
    }
  },
  "cells": [
    {
      "cell_type": "code",
      "execution_count": null,
      "metadata": {
        "id": "IB18ccItF-Mv"
      },
      "outputs": [],
      "source": []
    }
  ]
}