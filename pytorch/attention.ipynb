{
 "cells": [
  {
   "cell_type": "code",
   "execution_count": 1,
   "id": "9101bafd-5d38-42f5-ad97-93cfd1acfd29",
   "metadata": {},
   "outputs": [],
   "source": [
    "import torch"
   ]
  },
  {
   "cell_type": "code",
   "execution_count": 2,
   "id": "35280743-ac34-4f85-aa5c-d9679b87b21d",
   "metadata": {},
   "outputs": [],
   "source": [
    "sentence = \"Incredible things can be done simply if we are committed to making them happen.\""
   ]
  },
  {
   "cell_type": "code",
   "execution_count": 4,
   "id": "055073b3-c7f0-47b0-83ae-6a9e03152edb",
   "metadata": {},
   "outputs": [
    {
     "data": {
      "text/plain": [
       "{'Incredible': 0,\n",
       " 'are': 1,\n",
       " 'be': 2,\n",
       " 'can': 3,\n",
       " 'committed': 4,\n",
       " 'done': 5,\n",
       " 'happen.': 6,\n",
       " 'if': 7,\n",
       " 'making': 8,\n",
       " 'simply': 9,\n",
       " 'them': 10,\n",
       " 'things': 11,\n",
       " 'to': 12,\n",
       " 'we': 13}"
      ]
     },
     "execution_count": 4,
     "metadata": {},
     "output_type": "execute_result"
    }
   ],
   "source": [
    "dc = {word: ids for ids, word in enumerate(sorted(sentence.split()))}\n",
    "dc"
   ]
  },
  {
   "cell_type": "code",
   "execution_count": 5,
   "id": "dd917b8e-47c4-4a92-af87-64b9a94e16a7",
   "metadata": {},
   "outputs": [
    {
     "data": {
      "text/plain": [
       "tensor([ 0, 11,  3,  2,  5,  9,  7, 13,  1,  4, 12,  8, 10,  6])"
      ]
     },
     "execution_count": 5,
     "metadata": {},
     "output_type": "execute_result"
    }
   ],
   "source": [
    "sentence_tn = torch.tensor([dc[word] for word in sentence.split()])\n",
    "sentence_tn"
   ]
  },
  {
   "cell_type": "code",
   "execution_count": 9,
   "id": "7100873a-ad4a-4952-8e2d-37b60632cdcc",
   "metadata": {},
   "outputs": [
    {
     "name": "stdout",
     "output_type": "stream",
     "text": [
      "torch.Size([14, 32])\n"
     ]
    }
   ],
   "source": [
    "torch.manual_seed(1)\n",
    "embed = torch.nn.Embedding(len(sentence_tn), 32)\n",
    "embedded_sentence = embed(sentence_tn).detach()\n",
    "print(embedded_sentence.shape)"
   ]
  },
  {
   "cell_type": "code",
   "execution_count": 22,
   "id": "ff052e64-534f-4553-b5e0-a5454c69b541",
   "metadata": {},
   "outputs": [],
   "source": [
    "# Query, key and value\n",
    "d = embedded_sentence.shape[1]\n",
    "\n",
    "dq, dk, dv = 24, 24, 28\n",
    "\n",
    "Wq = torch.nn.Parameter(torch.rand(dq, d))\n",
    "Wk = torch.nn.Parameter(torch.rand(dk, d))\n",
    "Wv = torch.nn.Parameter(torch.rand(dv, d))\n"
   ]
  },
  {
   "cell_type": "code",
   "execution_count": 40,
   "id": "bac91e45-e07c-4ee8-aad9-3bf3a9a06707",
   "metadata": {},
   "outputs": [
    {
     "ename": "RuntimeError",
     "evalue": "1D tensors expected, but got 2D and 1D tensors",
     "output_type": "error",
     "traceback": [
      "\u001b[0;31m---------------------------------------------------------------------------\u001b[0m",
      "\u001b[0;31mRuntimeError\u001b[0m                              Traceback (most recent call last)",
      "Cell \u001b[0;32mIn[40], line 1\u001b[0m\n\u001b[0;32m----> 1\u001b[0m \u001b[43mWq\u001b[49m\u001b[38;5;241;43m.\u001b[39;49m\u001b[43mdot\u001b[49m\u001b[43m(\u001b[49m\u001b[43membedded_sentence\u001b[49m\u001b[43m[\u001b[49m\u001b[38;5;241;43m1\u001b[39;49m\u001b[43m]\u001b[49m\u001b[43m)\u001b[49m\n",
      "\u001b[0;31mRuntimeError\u001b[0m: 1D tensors expected, but got 2D and 1D tensors"
     ]
    }
   ],
   "source": [
    "Wq.dot(embedded_sentence[1])"
   ]
  },
  {
   "cell_type": "code",
   "execution_count": 43,
   "id": "49ba3f1d-fce7-4680-a624-675659293c1d",
   "metadata": {},
   "outputs": [
    {
     "data": {
      "text/plain": [
       "(tensor([ 0.3031,  5.3765,  1.3299,  4.5602,  2.8359,  1.6202,  5.3477,  2.0123,\n",
       "          4.7996,  5.8271,  4.6035,  1.9264,  3.1095,  4.0134,  4.0661,  3.8443,\n",
       "          5.0371,  2.1902,  4.0418,  4.5032,  3.6811, -0.6157,  0.2768,  1.8467],\n",
       "        grad_fn=<MvBackward0>),\n",
       " torch.Size([24]))"
      ]
     },
     "execution_count": 43,
     "metadata": {},
     "output_type": "execute_result"
    }
   ],
   "source": [
    "q5 = Wq.matmul(embedded_sentence[4])\n",
    "q5, q5.shape"
   ]
  },
  {
   "cell_type": "code",
   "execution_count": 33,
   "id": "7e5bfd40-29c8-45fe-842f-330423113417",
   "metadata": {},
   "outputs": [
    {
     "data": {
      "text/plain": [
       "(torch.Size([24]), torch.Size([24]), torch.Size([28]))"
      ]
     },
     "execution_count": 33,
     "metadata": {},
     "output_type": "execute_result"
    }
   ],
   "source": [
    "Wq.matmul(embedded_sentence[1]).shape, Wk.matmul(embedded_sentence[1]).shape, Wv.matmul(embedded_sentence[1]).shape"
   ]
  },
  {
   "cell_type": "code",
   "execution_count": 30,
   "id": "59da38b8-ecc7-4582-8594-27c7b9175683",
   "metadata": {},
   "outputs": [],
   "source": [
    "# (24, 32) X (32, 1) = (24, 1)"
   ]
  },
  {
   "cell_type": "code",
   "execution_count": 39,
   "id": "feddcff0-5946-4402-a27a-2e9275a96066",
   "metadata": {},
   "outputs": [
    {
     "data": {
      "text/plain": [
       "(torch.Size([14, 24]), torch.Size([14, 28]))"
      ]
     },
     "execution_count": 39,
     "metadata": {},
     "output_type": "execute_result"
    }
   ],
   "source": [
    "keys = Wq.matmul(embedded_sentence.T).T\n",
    "values = Wv.matmul(embedded_sentence.T).T\n",
    "\n",
    "keys.shape, values.shape"
   ]
  },
  {
   "cell_type": "code",
   "execution_count": 44,
   "id": "ee9454fe-e6ae-4e4d-8133-c8d4ba2ce7b1",
   "metadata": {},
   "outputs": [],
   "source": [
    "# Wij = qi.T * kj --> (14, 32)\n",
    "w35 = (Wq.matmul(embedded_sentence[2])).dot(keys[4])"
   ]
  },
  {
   "cell_type": "code",
   "execution_count": 48,
   "id": "859ed18a-a6e5-41b4-a47e-b8ef00d63a1d",
   "metadata": {},
   "outputs": [
    {
     "data": {
      "text/plain": [
       "(torch.Size([14]),\n",
       " tensor([-335.3750,  -59.7256,  264.1515, -213.3279,  255.0911,  -35.5608,\n",
       "           82.4628,  -46.8679,   87.6090,  159.8272, -146.9724,   -8.0728,\n",
       "          -30.5500,  270.8577], grad_fn=<SqueezeBackward4>))"
      ]
     },
     "execution_count": 48,
     "metadata": {},
     "output_type": "execute_result"
    }
   ],
   "source": [
    "w3 = (Wq.matmul(embedded_sentence[2])).matmul(keys.T)\n",
    "w3.shape, w3"
   ]
  },
  {
   "cell_type": "code",
   "execution_count": 52,
   "id": "8dd30b53-a5f5-401c-939d-cf668a4bcf7d",
   "metadata": {},
   "outputs": [],
   "source": [
    "def softmax_transform(w, dk):\n",
    "    import torch.nn.functional as F\n",
    "    attention_weights = F.softmax(w/dk**0.5, dim=0)\n",
    "    return attention_weights"
   ]
  },
  {
   "cell_type": "code",
   "execution_count": 69,
   "id": "a398963e-af8a-4a3e-bb47-259fed1c0348",
   "metadata": {},
   "outputs": [
    {
     "data": {
      "text/plain": [
       "tensor([4.0581, 2.6446, 3.5468, 5.7045, 1.8959, 2.6726, 6.2872, 5.0275, 5.1595,\n",
       "        5.0305, 6.2471, 4.1249, 3.6407, 5.3727, 5.0096, 4.7481, 2.5611, 1.9688,\n",
       "        4.3878, 3.3295, 3.4493, 5.9288, 1.9613, 5.0375, 3.5744, 2.4254, 2.5386,\n",
       "        4.6398], grad_fn=<SqueezeBackward4>)"
      ]
     },
     "execution_count": 69,
     "metadata": {},
     "output_type": "execute_result"
    }
   ],
   "source": [
    "z3 = softmax_transform(w3, dk).matmul(values)\n",
    "z3"
   ]
  },
  {
   "cell_type": "code",
   "execution_count": 62,
   "id": "2db37f49-9917-48ba-a64f-677c6f2cc7ed",
   "metadata": {},
   "outputs": [
    {
     "data": {
      "text/plain": [
       "(torch.Size([14]), torch.Size([14, 28]))"
      ]
     },
     "execution_count": 62,
     "metadata": {},
     "output_type": "execute_result"
    }
   ],
   "source": [
    "softmax_transform(w3, dk).shape, values.shape"
   ]
  },
  {
   "cell_type": "code",
   "execution_count": 67,
   "id": "8f4042b8-0d96-4595-a805-c84d6f4e58e2",
   "metadata": {},
   "outputs": [
    {
     "data": {
      "text/plain": [
       "tensor(4.0581, grad_fn=<DotBackward0>)"
      ]
     },
     "execution_count": 67,
     "metadata": {},
     "output_type": "execute_result"
    }
   ],
   "source": [
    "softmax_transform(w3, dk).dot(values[:,0])"
   ]
  },
  {
   "cell_type": "code",
   "execution_count": 68,
   "id": "5e461980-d33a-4fbc-bd57-3b55c761c19c",
   "metadata": {},
   "outputs": [
    {
     "data": {
      "text/plain": [
       "tensor(4.6398, grad_fn=<DotBackward0>)"
      ]
     },
     "execution_count": 68,
     "metadata": {},
     "output_type": "execute_result"
    }
   ],
   "source": [
    "softmax_transform(w3, dk).dot(values[:,-1])"
   ]
  },
  {
   "cell_type": "code",
   "execution_count": 83,
   "id": "d5c38723-f0ac-45a8-b8d1-015832cf0216",
   "metadata": {},
   "outputs": [],
   "source": [
    "head = 3\n",
    "multihead_Wq = torch.nn.Parameter(torch.rand(head, dq, d))\n",
    "multihead_Wk = torch.nn.Parameter(torch.rand(head, dk, d))\n",
    "multihead_Wv = torch.nn.Parameter(torch.rand(head, dv, d))\n",
    "\n",
    "\n",
    "# mulithead_Wq.shape, mulithead_Wk.shape, mulithead_Wv.shape\n"
   ]
  },
  {
   "cell_type": "code",
   "execution_count": 73,
   "id": "bf2202ab-3753-4508-965b-22cc1ca7bf6d",
   "metadata": {},
   "outputs": [
    {
     "data": {
      "text/plain": [
       "tensor([ 0.6614,  1.1899,  0.8165, -0.9135,  1.3851, -0.8138, -0.9276,  1.1120,\n",
       "         1.3352,  0.6043, -0.1034, -0.1512, -2.1021, -0.6200, -1.4782, -1.1334,\n",
       "         0.8738, -0.5603,  1.2858,  0.8168,  0.2053,  0.3051,  0.5357, -0.4312,\n",
       "         2.5581, -0.2334, -0.0135,  1.8606, -1.9804,  1.7986,  0.1018,  0.3400])"
      ]
     },
     "execution_count": 73,
     "metadata": {},
     "output_type": "execute_result"
    }
   ],
   "source": [
    "embedded_sentence[2]"
   ]
  },
  {
   "cell_type": "code",
   "execution_count": 77,
   "id": "913cc382-8d81-4c16-9a7c-340cd5f3af36",
   "metadata": {},
   "outputs": [
    {
     "data": {
      "text/plain": [
       "(torch.Size([3, 24]), torch.Size([3, 28]))"
      ]
     },
     "execution_count": 77,
     "metadata": {},
     "output_type": "execute_result"
    }
   ],
   "source": [
    "mhk3 = mulithead_Wk.matmul(embedded_sentence[2])\n",
    "mhv3 = mulithead_Wv.matmul(embedded_sentence[2])\n",
    "mhk3.shape, mhv3.shape"
   ]
  },
  {
   "cell_type": "code",
   "execution_count": 79,
   "id": "5d1aaf13-1fb5-474d-a377-448fc23b1dd4",
   "metadata": {},
   "outputs": [
    {
     "name": "stdout",
     "output_type": "stream",
     "text": [
      "torch.Size([3, 32, 14])\n"
     ]
    }
   ],
   "source": [
    "stacked_inputs = embedded_sentence.T.repeat(3, 1, 1)\n",
    "print(stacked_inputs.shape)"
   ]
  },
  {
   "cell_type": "code",
   "execution_count": 85,
   "id": "095d93ba-c816-405a-927d-5e97b126ac9f",
   "metadata": {},
   "outputs": [],
   "source": [
    "multihead_keys = torch.bmm(multihead_Wk, stacked_inputs)\n",
    "multihead_values = torch.bmm(multihead_Wv, stacked_inputs)"
   ]
  },
  {
   "cell_type": "code",
   "execution_count": 86,
   "id": "3b5224ff-5a32-47ad-bb44-1f94130fc62a",
   "metadata": {},
   "outputs": [
    {
     "data": {
      "text/plain": [
       "(torch.Size([3, 24, 14]), torch.Size([3, 28, 14]))"
      ]
     },
     "execution_count": 86,
     "metadata": {},
     "output_type": "execute_result"
    }
   ],
   "source": [
    "multihead_keys.shape, multihead_values.shape"
   ]
  },
  {
   "cell_type": "code",
   "execution_count": 87,
   "id": "88cc7734-2d0c-4994-b5de-d146f62d287d",
   "metadata": {},
   "outputs": [
    {
     "name": "stdout",
     "output_type": "stream",
     "text": [
      "multihead_keys.shape: torch.Size([3, 14, 24])\n",
      "multihead_values.shape: torch.Size([3, 14, 28])\n"
     ]
    }
   ],
   "source": [
    "multihead_keys = multihead_keys.permute(0, 2, 1)\n",
    "multihead_values = multihead_values.permute(0, 2, 1)\n",
    "print(\"multihead_keys.shape:\", multihead_keys.shape)\n",
    "print(\"multihead_values.shape:\", multihead_values.shape)"
   ]
  },
  {
   "cell_type": "code",
   "execution_count": 5,
   "id": "286fd630-c29d-4901-904b-d0850267e06c",
   "metadata": {},
   "outputs": [
    {
     "name": "stdout",
     "output_type": "stream",
     "text": [
      "{'fun': 0, 'if': 1, 'is': 2, 'it.': 3, 'learning': 4, 'pytorch': 5, 'understand': 6, 'you': 7} {0: 'fun', 1: 'if', 2: 'is', 3: 'it.', 4: 'learning', 5: 'pytorch', 6: 'understand', 7: 'you'}\n"
     ]
    }
   ],
   "source": [
    "import torch\n",
    "text = \"learning pytorch is fun, if you understand it.\"\n",
    "dc = {s:i for i,s \n",
    "      in enumerate(sorted(text.replace(',', '').split()))}\n",
    "ec = {s:i for i,s in dc.items()}\n",
    "\n",
    "print(dc, ec)"
   ]
  },
  {
   "cell_type": "code",
   "execution_count": 8,
   "id": "126e1700",
   "metadata": {},
   "outputs": [
    {
     "name": "stdout",
     "output_type": "stream",
     "text": [
      "torch.Size([8])\n"
     ]
    }
   ],
   "source": [
    "sentence_int = torch.tensor(\n",
    "    [dc[s] for s in text.replace(',', '').split()]\n",
    ")\n",
    "print(sentence_int.shape)"
   ]
  },
  {
   "cell_type": "code",
   "execution_count": 9,
   "id": "b4f87ec0",
   "metadata": {},
   "outputs": [
    {
     "name": "stdout",
     "output_type": "stream",
     "text": [
      "torch.Size([8, 3])\n"
     ]
    }
   ],
   "source": [
    "vocab_size = 50_000\n",
    "embed = torch.nn.Embedding(vocab_size, 3)\n",
    "embedded_sentence = embed(sentence_int).detach()\n",
    "print(embedded_sentence.shape)"
   ]
  },
  {
   "cell_type": "code",
   "execution_count": 10,
   "id": "041b5f4c",
   "metadata": {},
   "outputs": [],
   "source": [
    "d = embedded_sentence.shape[1]\n",
    "\n",
    "d_q, d_k, d_v = 2, 2, 4\n",
    "\n",
    "W_query = torch.nn.Parameter(torch.rand(d, d_q))\n",
    "W_key = torch.nn.Parameter(torch.rand(d, d_k))\n",
    "W_value = torch.nn.Parameter(torch.rand(d, d_v))"
   ]
  },
  {
   "cell_type": "code",
   "execution_count": 19,
   "id": "15789d0c",
   "metadata": {},
   "outputs": [
    {
     "name": "stdout",
     "output_type": "stream",
     "text": [
      "torch.Size([3]) torch.Size([4]) torch.Size([3, 4])\n"
     ]
    }
   ],
   "source": [
    "word_1 = embedded_sentence[1]\n",
    "\n",
    "query_1 = word_1 @ W_query\n",
    "key_1 = word_1 @ W_key\n",
    "value_1 = word_1 @ W_value\n",
    "\n",
    "print(word_1.shape, value_1.shape, W_value.shape)"
   ]
  },
  {
   "cell_type": "code",
   "execution_count": 21,
   "id": "b9013300",
   "metadata": {},
   "outputs": [],
   "source": [
    "keys = embedded_sentence @ W_key\n",
    "values = embedded_sentence @ W_value"
   ]
  },
  {
   "cell_type": "code",
   "execution_count": 50,
   "id": "c3d2ad25",
   "metadata": {},
   "outputs": [
    {
     "name": "stdout",
     "output_type": "stream",
     "text": [
      "torch.Size([8, 2]) torch.Size([8, 2])\n",
      "torch.Size([8, 2]) torch.Size([8, 2])\n",
      "torch.Size([8, 2]) torch.Size([8, 2])\n"
     ]
    },
    {
     "data": {
      "text/plain": [
       "torch.Size([8, 12])"
      ]
     },
     "execution_count": 50,
     "metadata": {},
     "output_type": "execute_result"
    }
   ],
   "source": [
    "class SelfAttention(torch.nn.Module):\n",
    "    def __init__(self, d_in, d_out_kq, d_v):\n",
    "        super(SelfAttention, self).__init__()\n",
    "        \n",
    "        self.K = torch.nn.Parameter(torch.rand(d_in, d_out_kq))\n",
    "        self.Q = torch.nn.Parameter(torch.rand(d_in, d_out_kq))\n",
    "        self.V = torch.nn.Parameter(torch.rand(d_in, d_v))\n",
    "        self.d_out_kq = d_out_kq\n",
    "\n",
    "    def forward(self, X):\n",
    "        keys = X @ self.K\n",
    "        query = X @ self.Q\n",
    "        values = X @ self.V\n",
    "\n",
    "        print(keys.shape, query.shape)\n",
    "        unnorm = query @ keys.T\n",
    "\n",
    "        attention = torch.nn.functional.softmax(unnorm/ self.d_out_kq**0.5, dim=-1)\n",
    "\n",
    "        context_vector = attention @ values\n",
    "\n",
    "        return context_vector\n",
    "\n",
    "\n",
    "class Multihead(torch.nn.Module):\n",
    "    def __init__(self, d_in, d_out_kq, d_v, num_heads=3):\n",
    "        super().__init__()\n",
    "        self.heads = torch.nn.ModuleList([SelfAttention(d_in, d_out_kq, d_v) for _ in range(num_heads)])\n",
    "\n",
    "    def forward(self, X):\n",
    "        out = torch.concat([head(X) for head in self.heads], dim=-1)\n",
    "        return out\n",
    "\n",
    "\n",
    "\n",
    "\n",
    "attn = Multihead(3,2,4)\n",
    "X = embedded_sentence\n",
    "\n",
    "out = attn.forward(X)\n",
    "out.shape\n"
   ]
  },
  {
   "cell_type": "code",
   "execution_count": 52,
   "id": "0bb1fc35",
   "metadata": {},
   "outputs": [],
   "source": [
    "# out"
   ]
  },
  {
   "cell_type": "code",
   "execution_count": null,
   "id": "997ab179",
   "metadata": {},
   "outputs": [],
   "source": []
  }
 ],
 "metadata": {
  "kernelspec": {
   "display_name": "yolo",
   "language": "python",
   "name": "python3"
  },
  "language_info": {
   "codemirror_mode": {
    "name": "ipython",
    "version": 3
   },
   "file_extension": ".py",
   "mimetype": "text/x-python",
   "name": "python",
   "nbconvert_exporter": "python",
   "pygments_lexer": "ipython3",
   "version": "3.8.10"
  }
 },
 "nbformat": 4,
 "nbformat_minor": 5
}
