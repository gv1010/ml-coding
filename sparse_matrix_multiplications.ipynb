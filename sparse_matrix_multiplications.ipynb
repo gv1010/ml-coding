{
 "cells": [
  {
   "cell_type": "code",
   "execution_count": 1,
   "id": "46197ef1-8523-45ee-a31d-57df42002712",
   "metadata": {},
   "outputs": [],
   "source": [
    "import numpy as np\n",
    "from collections import defaultdict"
   ]
  },
  {
   "cell_type": "code",
   "execution_count": 2,
   "id": "55bbd411-946e-4a7b-a6c1-a7be6b7a1042",
   "metadata": {},
   "outputs": [],
   "source": [
    "# matrix multiplication code\n",
    "\n",
    "        \n",
    "def mat_mul(A,B):\n",
    "    C = [[0]*len(B[0]) for _ in range(len(A))]\n",
    "    # print(C)\n",
    "    for i, row in enumerate(A):\n",
    "        for col in range(len(B[0])):\n",
    "            val = 0\n",
    "            for idx, ele in enumerate(row):\n",
    "                val += ele*B[idx][col]\n",
    "            C[i][col] = val\n",
    "\n",
    "    return C\n",
    "\n",
    "def sparse_convert(A):\n",
    "    # res = defaultdict(lambda: defaultdict(int))\n",
    "    tup = []\n",
    "    for i, row in enumerate(A):\n",
    "        for j, ele in enumerate(row):\n",
    "            if ele != 0:\n",
    "                tup.append((i,j))\n",
    "    return tup\n",
    "\n",
    "def sparse_mat_mul(A, B, A_tup):\n",
    "    \n",
    "    C = [[0]*len(B[0]) for _ in range(len(A))]\n",
    "    # print(C)\n",
    "     # = sparse_convert(A)\n",
    "    # B, B_tup = sparse_convert(B)\n",
    "\n",
    "    for i, j in A_tup:\n",
    "        ele = A[i][j]\n",
    "        for cidx in range(len(C[0])):\n",
    "            C[i][cidx] +=  ele*B[j][cidx]\n",
    "   \n",
    "   # total number of operations = len(A_tup)*len(C[0])\n",
    "    return C\n",
    "\n"
   ]
  },
  {
   "cell_type": "code",
   "execution_count": 5,
   "id": "bbb3db43-de28-4326-a160-1c686fd39534",
   "metadata": {},
   "outputs": [
    {
     "name": "stdout",
     "output_type": "stream",
     "text": [
      "shape of A (400, 500)\n",
      "shape of B (500, 400)\n"
     ]
    }
   ],
   "source": [
    "# code to multiply two sparse matrix, reduce the computation\n",
    "\n",
    "column = 100\n",
    "matA_row = 100\n",
    "matB_col = 100\n",
    "A = [\n",
    "    [0, 0, 0, 1, 0]*column,\n",
    "    [0, 2, 0, 0, 0]*column,\n",
    "    [0, 0, 0, 0, 0]*column,\n",
    "    [3, 0, 0, 0, 4]*column\n",
    "]*matA_row\n",
    "\n",
    "B = [\n",
    "    [0, 0, 0, 0]*matB_col,\n",
    "    [0, 0, 0, 0]*matB_col,\n",
    "    [0, 0, 0, 0]*matB_col,\n",
    "    [1, 0, 0, 0]*matB_col,\n",
    "    [0, 2, 0, 0]*matB_col\n",
    "]*column\n",
    "\n",
    "print(\"shape of A\", (len(A), len(A[0])))\n",
    "print(\"shape of B\", (len(B), len(B[0])))"
   ]
  },
  {
   "cell_type": "code",
   "execution_count": 6,
   "id": "e287e6a0-7138-4b45-94b1-3c08f54973de",
   "metadata": {},
   "outputs": [
    {
     "name": "stdout",
     "output_type": "stream",
     "text": [
      "60.5 ms ± 1.95 ms per loop (mean ± std. dev. of 7 runs, 10 loops each)\n"
     ]
    }
   ],
   "source": [
    "%%timeit\n",
    "np.matmul(A, B)"
   ]
  },
  {
   "cell_type": "code",
   "execution_count": 7,
   "id": "c73721f5-38ed-443b-aa95-6b6000f9a43a",
   "metadata": {},
   "outputs": [
    {
     "name": "stdout",
     "output_type": "stream",
     "text": [
      "3.04 s ± 36.7 ms per loop (mean ± std. dev. of 7 runs, 1 loop each)\n"
     ]
    }
   ],
   "source": [
    "%%timeit\n",
    "mat_mul(A, B)"
   ]
  },
  {
   "cell_type": "code",
   "execution_count": 10,
   "id": "2192b8bb-78ce-4993-a809-3739b4e5e209",
   "metadata": {},
   "outputs": [
    {
     "name": "stdout",
     "output_type": "stream",
     "text": [
      "5.23 ms ± 133 µs per loop (mean ± std. dev. of 7 runs, 100 loops each)\n"
     ]
    }
   ],
   "source": [
    "%%timeit\n",
    "A_tup = sparse_convert(A)"
   ]
  },
  {
   "cell_type": "code",
   "execution_count": 11,
   "id": "a11a7589-ee64-4779-846e-644def38eff0",
   "metadata": {},
   "outputs": [
    {
     "name": "stdout",
     "output_type": "stream",
     "text": [
      "819 ms ± 33.8 ms per loop (mean ± std. dev. of 7 runs, 1 loop each)\n"
     ]
    }
   ],
   "source": [
    "%%timeit\n",
    "sparse_mat_mul(A, B, A_tup)"
   ]
  },
  {
   "cell_type": "code",
   "execution_count": null,
   "id": "73bbb3f7-cf04-43eb-b4e4-c2c53656db8e",
   "metadata": {},
   "outputs": [],
   "source": []
  }
 ],
 "metadata": {
  "kernelspec": {
   "display_name": "yolo",
   "language": "python",
   "name": "python3"
  },
  "language_info": {
   "codemirror_mode": {
    "name": "ipython",
    "version": 3
   },
   "file_extension": ".py",
   "mimetype": "text/x-python",
   "name": "python",
   "nbconvert_exporter": "python",
   "pygments_lexer": "ipython3",
   "version": "3.8.10"
  }
 },
 "nbformat": 4,
 "nbformat_minor": 5
}
